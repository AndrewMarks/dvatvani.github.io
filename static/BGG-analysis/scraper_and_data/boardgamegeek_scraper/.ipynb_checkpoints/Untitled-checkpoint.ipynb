{
 "cells": [
  {
   "cell_type": "code",
   "execution_count": 60,
   "metadata": {
    "collapsed": true
   },
   "outputs": [],
   "source": [
    "import csv\n",
    "import time\n",
    "\n",
    "import requests\n",
    "from bs4 import BeautifulSoup\n",
    "from tqdm import tqdm_notebook\n",
    "\n",
    "\n",
    "\n"
   ]
  },
  {
   "cell_type": "code",
   "execution_count": 58,
   "metadata": {
    "collapsed": true
   },
   "outputs": [],
   "source": [
    "def get_val(tag, term):\n",
    "    val = tag.find(term)['value'].encode('utf-8')\n",
    "    return val"
   ]
  },
  {
   "cell_type": "code",
   "execution_count": 59,
   "metadata": {},
   "outputs": [],
   "source": [
    "base = 'http://www.boardgamegeek.com/xmlapi2/thing?id={}&stats=1'\n",
    "with open('ids.txt') as f:\n",
    "    ids = [line.strip() for line in f.readlines()]\n",
    "split = 30\n",
    "f = open('games.csv', 'wb')\n",
    "writer = csv.writer(f)\n",
    "writer.writerow(('id', 'type', 'name', 'yearpublished', 'minplayers', 'maxplayers', 'playingtime',\n",
    "                 'minplaytime', 'maxplaytime', 'minage', 'users_rated', 'average_rating',\n",
    "                 'bayes_average_rating', 'total_owners', 'total_traders', 'total_wanters',\n",
    "                 'total_wishers', 'total_comments', 'total_weights', 'average_weight','types',\n",
    "                 'categories', 'mechanics', 'designers'))"
   ]
  },
  {
   "cell_type": "code",
   "execution_count": 55,
   "metadata": {},
   "outputs": [
    {
     "name": "stdout",
     "output_type": "stream",
     "text": [
      "Requesting http://www.boardgamegeek.com/xmlapi2/thing?id=89371,89376,89378,5988,40134,5982,5983,5980,5981,5986,5987,5984,5985,103549,82449,155631,103543,155633,82446,155636,36603,36600,120120,36601,173157,173156,173158,97152,97150,97155&stats=1\n"
     ]
    }
   ],
   "source": [
    "for i in tqdm_notebook(range(0, len(ids), split)):\n",
    "    url = base.format(','.join(ids[i:i+split]))\n",
    "    print('Requesting {}'.format(url))\n",
    "    req = requests.get(url)\n",
    "    soup = BeautifulSoup(req.content, 'xml')\n",
    "    items = soup.find_all('item')\n",
    "    for item in items:\n",
    "        gid = item['id']\n",
    "        gtype = item['type']\n",
    "        gname = get_val(item, 'name')\n",
    "        gyear = get_val(item, 'yearpublished')\n",
    "        gmin = get_val(item, 'minplayers')\n",
    "        gmax = get_val(item, 'maxplayers')\n",
    "        gplay = get_val(item, 'playingtime')\n",
    "        gminplay = get_val(item, 'minplaytime')\n",
    "        gmaxplay = get_val(item, 'maxplaytime')\n",
    "        gminage = get_val(item, 'minage')\n",
    "        usersrated = get_val(item.statistics.ratings, 'usersrated')\n",
    "        avg = get_val(item.statistics.ratings, 'average')\n",
    "        bayesavg = get_val(item.statistics.ratings, 'bayesaverage')\n",
    "        owners = get_val(item.statistics.ratings, 'owned')\n",
    "        traders = get_val(item.statistics.ratings, 'trading')\n",
    "        wanters = get_val(item.statistics.ratings, 'wanting')\n",
    "        wishers = get_val(item.statistics.ratings, 'wishing')\n",
    "        numcomments = get_val(item.statistics.ratings, 'numcomments')\n",
    "        numweights = get_val(item.statistics.ratings, 'numweights')\n",
    "        avgweight = get_val(item.statistics.ratings, 'averageweight')\n",
    "        types = \",\".join([x['name'] for x in item.statistics.ratings.findAll('rank')])\n",
    "        categories = \",\".join([x['value'] for x in item.findAll(type='boardgamecategory')])\n",
    "        mechanics = \",\".join([x['value'] for x in item.findAll(type='boardgamemechanic')])\n",
    "        designers = \",\".join([x['value'].encode('utf-8') for x in item.findAll(type='boardgamedesigner')])\n",
    "\n",
    "        # desc = item.description.text.encode('ascii', 'ignore')\n",
    "        writer.writerow((gid, gtype, gname, gyear, gmin, gmax, gplay, gminplay, gmaxplay, gminage,\n",
    "                         usersrated, avg, bayesavg, owners, traders, wanters, wishers, numcomments,\n",
    "                         numweights, avgweight, types, categories, mechanics, designers))\n",
    "    time.sleep(2)"
   ]
  },
  {
   "cell_type": "code",
   "execution_count": null,
   "metadata": {},
   "outputs": [],
   "source": []
  },
  {
   "cell_type": "code",
   "execution_count": 56,
   "metadata": {
    "collapsed": true
   },
   "outputs": [],
   "source": [
    "f.close()"
   ]
  },
  {
   "cell_type": "code",
   "execution_count": null,
   "metadata": {
    "collapsed": true
   },
   "outputs": [],
   "source": []
  }
 ],
 "metadata": {
  "kernelspec": {
   "display_name": "Python 2",
   "language": "python",
   "name": "python2"
  },
  "language_info": {
   "codemirror_mode": {
    "name": "ipython",
    "version": 2
   },
   "file_extension": ".py",
   "mimetype": "text/x-python",
   "name": "python",
   "nbconvert_exporter": "python",
   "pygments_lexer": "ipython2",
   "version": "2.7.11"
  }
 },
 "nbformat": 4,
 "nbformat_minor": 1
}
