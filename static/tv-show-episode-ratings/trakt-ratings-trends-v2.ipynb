{
 "cells": [
  {
   "cell_type": "code",
   "execution_count": 1,
   "metadata": {
    "collapsed": false
   },
   "outputs": [
    {
     "name": "stdout",
     "output_type": "stream",
     "text": [
      "Populating the interactive namespace from numpy and matplotlib\n"
     ]
    },
    {
     "name": "stderr",
     "output_type": "stream",
     "text": [
      "C:\\Users\\Danny\\Anaconda\\lib\\site-packages\\pandas\\computation\\__init__.py:19: UserWarning: The installed version of numexpr 2.4.4 is not supported in pandas and will be not be used\n",
      "\n",
      "  UserWarning)\n",
      "C:\\Users\\Danny\\Anaconda\\lib\\site-packages\\IPython\\html.py:14: ShimWarning: The `IPython.html` package has been deprecated. You should import from `notebook` instead. `IPython.html.widgets` has moved to `ipywidgets`.\n",
      "  \"`IPython.html.widgets` has moved to `ipywidgets`.\", ShimWarning)\n"
     ]
    }
   ],
   "source": [
    "%pylab inline\n",
    "import seaborn as sns\n",
    "from scipy import stats\n",
    "import pandas as pd\n",
    "import requests\n",
    "import json\n",
    "from pandas.io.json import json_normalize\n",
    "from tqdm import tqdm"
   ]
  },
  {
   "cell_type": "code",
   "execution_count": 8,
   "metadata": {
    "collapsed": false
   },
   "outputs": [],
   "source": [
    "try:\n",
    "    from keys import trakt_api_key\n",
    "except ImportError:\n",
    "    trakt_api_key = \"{insert_trakt_API_key_here}\"\n",
    "if trakt_api_key == \"{insert_trakt_API_key_here}\":\n",
    "    raise Exception('trakt API key needed. This can be obtained from here: https://trakt.tv/oauth/applications/new')"
   ]
  },
  {
   "cell_type": "code",
   "execution_count": 9,
   "metadata": {
    "collapsed": false
   },
   "outputs": [],
   "source": [
    "# Set the headers for the trakt API requests\n",
    "headers={\n",
    "  'Content-Type': 'application/json',\n",
    "  'trakt-api-version': '2',\n",
    "  'trakt-api-key': trakt_api_key\n",
    "}"
   ]
  },
  {
   "cell_type": "code",
   "execution_count": 10,
   "metadata": {
    "collapsed": false
   },
   "outputs": [
    {
     "name": "stdout",
     "output_type": "stream",
     "text": [
      "Please type in a show name :sherlock\n"
     ]
    }
   ],
   "source": [
    "search_string = raw_input(\"Please type in a show name :\")"
   ]
  },
  {
   "cell_type": "code",
   "execution_count": 11,
   "metadata": {
    "collapsed": false
   },
   "outputs": [
    {
     "name": "stdout",
     "output_type": "stream",
     "text": [
      "Best match : Sherlock\n"
     ]
    }
   ],
   "source": [
    "# Find best match in trakt.tv\n",
    "request = requests.get(\"https://api-v2launch.trakt.tv/search?query={}&type=show\".format(search_string), headers=headers)\n",
    "show_search_data = json_normalize(json.loads(request.text))\n",
    "print(\"Best match : {}\".format(show_search_data['show.title'][0]))\n",
    "show_id = show_search_data['show.ids.slug'][0]"
   ]
  },
  {
   "cell_type": "code",
   "execution_count": 12,
   "metadata": {
    "collapsed": false
   },
   "outputs": [],
   "source": [
    "request = requests.get(\"https://api-v2launch.trakt.tv/shows/{}\".format(show_id), headers=headers)\n",
    "show_summary = json_normalize(json.loads(request.text))\n",
    "\n",
    "request = requests.get(\"https://api-v2launch.trakt.tv/shows/{}/stats\".format(show_id), headers=headers)\n",
    "show_stats = json_normalize(json.loads(request.text))\n",
    "\n",
    "request = requests.get(\"https://api-v2launch.trakt.tv/shows/{}/seasons?extended=episodes\".format(show_id), headers=headers)\n",
    "show_seasons_list = json_normalize(json.loads(request.text))\n",
    "\n",
    "episode_df = pd.concat([json_normalize(ep) for ep in show_seasons_list.episodes])"
   ]
  },
  {
   "cell_type": "code",
   "execution_count": 13,
   "metadata": {
    "collapsed": false
   },
   "outputs": [
    {
     "name": "stderr",
     "output_type": "stream",
     "text": [
      "100%|██████████████████████████████████████████| 21/21 [00:06<00:00,  3.20it/s]\n"
     ]
    }
   ],
   "source": [
    "episodes_summaries = []\n",
    "episodes_ratings = []\n",
    "episodes_stats = []\n",
    "\n",
    "for index, episode in tqdm(episode_df.iterrows(), total=len(episode_df)):\n",
    "\n",
    "    # Fetch summary (for Synopsis)\n",
    "    request = requests.get(\"https://api-v2launch.trakt.tv/shows/{id}/seasons/{season}/episodes/{episode}?extended=full\".format(id=show_id,\n",
    "                                                                                                                               season=episode.season,\n",
    "                                                                                                                               episode=episode.number), headers=headers)\n",
    "    episode_summary = json_normalize(json.loads(request.text))\n",
    "    episodes_summaries.append(episode_summary)\n",
    "    \n",
    "    \n",
    "    # The code below fetches additional information that isn't currently used. It may be useful for future development\n",
    "    \n",
    "    # fetch ratings (for histogram breakdown of ratings)\n",
    "\n",
    "    #request = requests.get(\"https://api-v2launch.trakt.tv/shows/{id}/seasons/{season}/episodes/{episode}/ratings\".format(id=show_id,\n",
    "    #                                                                                                                     season=episode.season,\n",
    "    #                                                                                                                     episode=episode.number), headers=headers)\n",
    "    #episode_ratings = json_normalize(json.loads(request.text))\n",
    "\n",
    "\n",
    "    # fetch other stats (to get more details stats like \"watchers\", \"plays\", \"collectors\", \"collected_episodes\", \"comments\", \"lists\"\n",
    "    # \"votes\", etc.\n",
    "\n",
    "    #request = requests.get(\"https://api-v2launch.trakt.tv/shows/{id}/seasons/{season}/episodes/{episode}/stats\".format(id=show_id,\n",
    "    #                                                                                                                   season=episode.season,\n",
    "    #                                                                                                                   episode=episode.number), headers=headers)\n",
    "    #episode_stats = json_normalize(json.loads(request.text))\n",
    "\n",
    "\n",
    "\n"
   ]
  },
  {
   "cell_type": "code",
   "execution_count": 14,
   "metadata": {
    "collapsed": false
   },
   "outputs": [],
   "source": [
    "full_episode_df = pd.concat(episodes_summaries)\n",
    "full_episode_df['first_aired'] = pd.to_datetime(full_episode_df.first_aired)\n",
    "\n",
    "full_episode_df.to_csv(show_summary.title[0] + \".csv\", encoding='utf-8')"
   ]
  },
  {
   "cell_type": "code",
   "execution_count": 15,
   "metadata": {
    "collapsed": false
   },
   "outputs": [
    {
     "name": "stderr",
     "output_type": "stream",
     "text": [
      "C:\\Users\\Danny\\Anaconda\\lib\\site-packages\\pandas\\core\\generic.py:2701: SettingWithCopyWarning: \n",
      "A value is trying to be set on a copy of a slice from a DataFrame.\n",
      "Try using .loc[row_indexer,col_indexer] = value instead\n",
      "\n",
      "See the caveats in the documentation: http://pandas.pydata.org/pandas-docs/stable/indexing.html#indexing-view-versus-copy\n",
      "  self[name] = value\n"
     ]
    }
   ],
   "source": [
    "# Remove specials and episodes that haven't aired, and group episodes by season\n",
    "main_episodes = full_episode_df[(full_episode_df.season > 0) & (full_episode_df.first_aired < pd.datetime.now())]\n",
    "main_episodes.number_abs = range(1, len(main_episodes)+1)\n",
    "\n",
    "groups = main_episodes.groupby(\"season\")\n",
    "pal = sns.color_palette(n_colors=len(groups))"
   ]
  },
  {
   "cell_type": "code",
   "execution_count": 16,
   "metadata": {
    "collapsed": false
   },
   "outputs": [
    {
     "data": {
      "image/png": "[encoded data removed]",
      "text/plain": [
       "<matplotlib.figure.Figure at 0x9842f60>"
      ]
     },
     "metadata": {},
     "output_type": "display_data"
    }
   ],
   "source": [
    "# Generate static image plot\n",
    "sns.set_style('white')\n",
    "\n",
    "for name, group in groups:\n",
    "    \n",
    "    c = np.array([pal[name-1]]*len(group))\n",
    "    \n",
    "    plt.scatter(x=group.number_abs,\n",
    "                y=group.rating,\n",
    "                c=np.array([pal[name-1]]*len(group))\n",
    "                )\n",
    "\n",
    "    \n",
    "    polyfit_coef = np.polyfit(group.number_abs, group.rating, 1)\n",
    "    plt.plot(group.number_abs, np.poly1d(polyfit_coef)(group.number_abs), c=c[0])\n",
    "    \n",
    "    for name, episode in group.iterrows(): # add seasons_titles again when it works\n",
    "        rating = episode.rating\n",
    "        error = 2.0 / episode.votes ** .5\n",
    "        #plt.text(running_x + 0.04, rating - error - 0.5, title, rotation='vertical', ha='center', va='top', size='xx-small')\n",
    "        plt.plot((episode.number_abs, episode.number_abs), (rating - error, rating + error), c=c[0], alpha=0.4)\n",
    "        \n",
    "plt.xlim(0,main_episodes.number_abs.max()+1)\n",
    "plt.ylim(5,10)\n",
    "plt.grid(True, axis='y')\n",
    "plt.title(show_summary.title[0], size=20)\n",
    "plt.ylabel('Trakt.tv Episode Rating')\n",
    "plt.xlabel('Episode number')\n",
    "\n",
    "plt.gcf().set_size_inches(18.5, 10.5)\n",
    "plt.savefig(show_summary.title[0] + \".png\", dpi=300)"
   ]
  },
  {
   "cell_type": "code",
   "execution_count": 17,
   "metadata": {
    "collapsed": false
   },
   "outputs": [
    {
     "data": {
      "text/html": [
       "\n",
       "\n",
       "<style>\n",
       "\n",
       "table\n",
       "{\n",
       "  border-collapse: collapse;\n",
       "  width: 300px;\n",
       "}\n",
       "th\n",
       "{\n",
       "  color: #ffffff;\n",
       "  background-color: #000000;\n",
       "}\n",
       "td\n",
       "{\n",
       "  background-color: #cccccc;\n",
       "}\n",
       "table, th, td\n",
       "{\n",
       "  font-family:Arial, Helvetica, sans-serif;\n",
       "  border: 1px solid black;\n",
       "  text-align: right;\n",
       "}\n",
       "\n",
       "</style>\n",
       "\n",
       "<div id=\"fig_el128401623530482887622161\"></div>\n",
       "<script>\n",
       "function mpld3_load_lib(url, callback){\n",
       "  var s = document.createElement('script');\n",
       "  s.src = url;\n",
       "  s.async = true;\n",
       "  s.onreadystatechange = s.onload = callback;\n",
       "  s.onerror = function(){console.warn(\"failed to load library \" + url);};\n",
       "  document.getElementsByTagName(\"head\")[0].appendChild(s);\n",
       "}\n",
       "\n",
       "if(typeof(mpld3) !== \"undefined\" && mpld3._mpld3IsLoaded){\n",
       "   // already loaded: just create the figure\n",
       "   !function(mpld3){\n",
       "       \n",
       "    mpld3.register_plugin(\"htmltooltip\", HtmlTooltipPlugin);\n",
       "    HtmlTooltipPlugin.prototype = Object.create(mpld3.Plugin.prototype);\n",
       "    HtmlTooltipPlugin.prototype.constructor = HtmlTooltipPlugin;\n",
       "    HtmlTooltipPlugin.prototype.requiredProps = [\"id\"];\n",
       "    HtmlTooltipPlugin.prototype.defaultProps = {labels:null, hoffset:0, voffset:10};\n",
       "    function HtmlTooltipPlugin(fig, props){\n",
       "        mpld3.Plugin.call(this, fig, props);\n",
       "    };\n",
       "\n",
       "    HtmlTooltipPlugin.prototype.draw = function(){\n",
       "       var obj = mpld3.get_element(this.props.id);\n",
       "       var labels = this.props.labels;\n",
       "       var tooltip = d3.select(\"body\").append(\"div\")\n",
       "                    .attr(\"class\", \"mpld3-tooltip\")\n",
       "                    .style(\"position\", \"absolute\")\n",
       "                    .style(\"z-index\", \"10\")\n",
       "                    .style(\"visibility\", \"hidden\");\n",
       "\n",
       "       obj.elements()\n",
       "           .on(\"mouseover\", function(d, i){\n",
       "                              tooltip.html(labels[i])\n",
       "                                     .style(\"visibility\", \"visible\");})\n",
       "           .on(\"mousemove\", function(d, i){\n",
       "                    tooltip\n",
       "                      .style(\"top\", d3.event.pageY + this.props.voffset + \"px\")\n",
       "                      .style(\"left\",d3.event.pageX + this.props.hoffset + \"px\");\n",
       "                 }.bind(this))\n",
       "           .on(\"mouseout\",  function(d, i){\n",
       "                           tooltip.style(\"visibility\", \"hidden\");});\n",
       "    };\n",
       "    \n",
       "       mpld3.draw_figure(\"fig_el128401623530482887622161\", {\"axes\": [{\"xlim\": [0.0, 10.0], \"yscale\": \"linear\", \"axesbg\": \"#FFFFFF\", \"texts\": [{\"v_baseline\": \"hanging\", \"h_anchor\": \"middle\", \"color\": \"#262626\", \"text\": \"Episode number\", \"coordinates\": \"axes\", \"zorder\": 3, \"alpha\": 1, \"fontsize\": 11.0, \"position\": [0.5, -0.062724014336917558], \"rotation\": -0.0, \"id\": \"el12840163963848\"}, {\"v_baseline\": \"auto\", \"h_anchor\": \"middle\", \"color\": \"#262626\", \"text\": \"Trakt.tv Episode Rating\", \"coordinates\": \"axes\", \"zorder\": 3, \"alpha\": 1, \"fontsize\": 11.0, \"position\": [-0.03472222222222221, 0.5], \"rotation\": -90.0, \"id\": \"el12840164024048\"}, {\"v_baseline\": \"auto\", \"h_anchor\": \"middle\", \"color\": \"#262626\", \"text\": \"Sherlock\", \"coordinates\": \"axes\", \"zorder\": 3, \"alpha\": 1, \"fontsize\": 20.0, \"position\": [0.5, 1.0149342891278375], \"rotation\": -0.0, \"id\": \"el12840164258928\"}], \"zoomable\": true, \"images\": [], \"xdomain\": [0.0, 10.0], \"ylim\": [5.0, 10.0], \"paths\": [], \"sharey\": [], \"sharex\": [], \"axesbgalpha\": null, \"axes\": [{\"scale\": \"linear\", \"tickformat\": null, \"grid\": {\"gridOn\": false}, \"fontsize\": 10.0, \"position\": \"bottom\", \"nticks\": 6, \"tickvalues\": null}, {\"scale\": \"linear\", \"tickformat\": null, \"grid\": {\"color\": \"#CCCCCC\", \"alpha\": 0.9, \"dasharray\": \"10,0\", \"gridOn\": true}, \"fontsize\": 10.0, \"position\": \"left\", \"nticks\": 6, \"tickvalues\": null}], \"lines\": [{\"color\": \"#4C72B0\", \"yindex\": 1, \"coordinates\": \"data\", \"dasharray\": \"10,0\", \"zorder\": 1, \"alpha\": 1, \"xindex\": 0, \"linewidth\": 1.75, \"data\": \"data01\", \"id\": \"el12840164692320\"}, {\"color\": \"#4C72B0\", \"yindex\": 1, \"coordinates\": \"data\", \"dasharray\": \"10,0\", \"zorder\": 1, \"alpha\": 0.4, \"xindex\": 0, \"linewidth\": 1.75, \"data\": \"data02\", \"id\": \"el12840158021000\"}, {\"color\": \"#4C72B0\", \"yindex\": 1, \"coordinates\": \"data\", \"dasharray\": \"10,0\", \"zorder\": 1, \"alpha\": 0.4, \"xindex\": 0, \"linewidth\": 1.75, \"data\": \"data03\", \"id\": \"el12840164693888\"}, {\"color\": \"#4C72B0\", \"yindex\": 1, \"coordinates\": \"data\", \"dasharray\": \"10,0\", \"zorder\": 1, \"alpha\": 0.4, \"xindex\": 0, \"linewidth\": 1.75, \"data\": \"data04\", \"id\": \"el12840164694392\"}, {\"color\": \"#55A868\", \"yindex\": 1, \"coordinates\": \"data\", \"dasharray\": \"10,0\", \"zorder\": 1, \"alpha\": 1, \"xindex\": 0, \"linewidth\": 1.75, \"data\": \"data05\", \"id\": \"el12840157904624\"}, {\"color\": \"#55A868\", \"yindex\": 1, \"coordinates\": \"data\", \"dasharray\": \"10,0\", \"zorder\": 1, \"alpha\": 0.4, \"xindex\": 0, \"linewidth\": 1.75, \"data\": \"data06\", \"id\": \"el12840164695792\"}, {\"color\": \"#55A868\", \"yindex\": 1, \"coordinates\": \"data\", \"dasharray\": \"10,0\", \"zorder\": 1, \"alpha\": 0.4, \"xindex\": 0, \"linewidth\": 1.75, \"data\": \"data07\", \"id\": \"el12840164752912\"}, {\"color\": \"#55A868\", \"yindex\": 1, \"coordinates\": \"data\", \"dasharray\": \"10,0\", \"zorder\": 1, \"alpha\": 0.4, \"xindex\": 0, \"linewidth\": 1.75, \"data\": \"data08\", \"id\": \"el12840164798536\"}, {\"color\": \"#C44E52\", \"yindex\": 1, \"coordinates\": \"data\", \"dasharray\": \"10,0\", \"zorder\": 1, \"alpha\": 1, \"xindex\": 0, \"linewidth\": 1.75, \"data\": \"data09\", \"id\": \"el12840164692432\"}, {\"color\": \"#C44E52\", \"yindex\": 1, \"coordinates\": \"data\", \"dasharray\": \"10,0\", \"zorder\": 1, \"alpha\": 0.4, \"xindex\": 0, \"linewidth\": 1.75, \"data\": \"data10\", \"id\": \"el12840164799936\"}, {\"color\": \"#C44E52\", \"yindex\": 1, \"coordinates\": \"data\", \"dasharray\": \"10,0\", \"zorder\": 1, \"alpha\": 0.4, \"xindex\": 0, \"linewidth\": 1.75, \"data\": \"data11\", \"id\": \"el12840164857056\"}, {\"color\": \"#C44E52\", \"yindex\": 1, \"coordinates\": \"data\", \"dasharray\": \"10,0\", \"zorder\": 1, \"alpha\": 0.4, \"xindex\": 0, \"linewidth\": 1.75, \"data\": \"data12\", \"id\": \"el12840164857560\"}], \"markers\": [], \"id\": \"el12840163878280\", \"ydomain\": [5.0, 10.0], \"collections\": [{\"paths\": [[[[0.0, -0.5], [0.13260155, -0.5], [0.25978993539242673, -0.44731684579412084], [0.3535533905932738, -0.3535533905932738], [0.44731684579412084, -0.25978993539242673], [0.5, -0.13260155], [0.5, 0.0], [0.5, 0.13260155], [0.44731684579412084, 0.25978993539242673], [0.3535533905932738, 0.3535533905932738], [0.25978993539242673, 0.44731684579412084], [0.13260155, 0.5], [0.0, 0.5], [-0.13260155, 0.5], [-0.25978993539242673, 0.44731684579412084], [-0.3535533905932738, 0.3535533905932738], [-0.44731684579412084, 0.25978993539242673], [-0.5, 0.13260155], [-0.5, 0.0], [-0.5, -0.13260155], [-0.44731684579412084, -0.25978993539242673], [-0.3535533905932738, -0.3535533905932738], [-0.25978993539242673, -0.44731684579412084], [-0.13260155, -0.5], [0.0, -0.5]], [\"M\", \"C\", \"C\", \"C\", \"C\", \"C\", \"C\", \"C\", \"C\", \"Z\"]]], \"edgecolors\": [\"#000000\"], \"edgewidths\": [0.3], \"offsets\": \"data13\", \"yindex\": 1, \"id\": \"el12840165286016\", \"pathtransforms\": [[4.969039949999533, 0.0, 0.0, 4.969039949999533, 0.0, 0.0]], \"pathcoordinates\": \"display\", \"offsetcoordinates\": \"data\", \"zorder\": 2, \"xindex\": 0, \"alphas\": [0.99], \"facecolors\": [\"#4C72B0\", \"#4C72B0\", \"#4C72B0\", \"#55A868\", \"#55A868\", \"#55A868\", \"#C44E52\", \"#C44E52\", \"#C44E52\"]}], \"xscale\": \"linear\", \"bbox\": [0.125, 0.125, 0.77500000000000002, 0.77500000000000002]}], \"height\": 480.0, \"width\": 960.0, \"plugins\": [{\"type\": \"reset\"}, {\"enabled\": false, \"button\": true, \"type\": \"zoom\"}, {\"enabled\": false, \"button\": true, \"type\": \"boxzoom\"}, {\"voffset\": 10, \"labels\": [\"<table border=\\\"1\\\" class=\\\"dataframe\\\">\\n  <thead>\\n    <tr style=\\\"text-align: right;\\\">\\n      <th>title</th>\\n      <th>A Study in Pink</th>\\n    </tr>\\n  </thead>\\n  <tbody>\\n    <tr>\\n      <th>Season</th>\\n      <td>1</td>\\n    </tr>\\n    <tr>\\n      <th>Episode</th>\\n      <td>1</td>\\n    </tr>\\n    <tr>\\n      <th>Rating</th>\\n      <td>8.9458</td>\\n    </tr>\\n    <tr>\\n      <th>Votes</th>\\n      <td>3026</td>\\n    </tr>\\n    <tr>\\n      <th>Air date</th>\\n      <td>2010-07-25 19:30:00</td>\\n    </tr>\\n    <tr>\\n      <th>Synopsis</th>\\n      <td>A war hero, invalided home from Afghanistan, meets a strange but charismatic genius who is looking for a flatmate; it is London, 2010, and Dr Watson and Sherlock Holmes are meeting for the first time. A string of impossible suicides has Scotland Yard baffled - and only one man can help.</td>\\n    </tr>\\n  </tbody>\\n</table>\", \"<table border=\\\"1\\\" class=\\\"dataframe\\\">\\n  <thead>\\n    <tr style=\\\"text-align: right;\\\">\\n      <th>title</th>\\n      <th>The Blind Banker</th>\\n    </tr>\\n  </thead>\\n  <tbody>\\n    <tr>\\n      <th>Season</th>\\n      <td>1</td>\\n    </tr>\\n    <tr>\\n      <th>Episode</th>\\n      <td>2</td>\\n    </tr>\\n    <tr>\\n      <th>Rating</th>\\n      <td>8.4033</td>\\n    </tr>\\n    <tr>\\n      <th>Votes</th>\\n      <td>2425</td>\\n    </tr>\\n    <tr>\\n      <th>Air date</th>\\n      <td>2010-08-01 19:30:00</td>\\n    </tr>\\n    <tr>\\n      <th>Synopsis</th>\\n      <td>A mysterious cipher is being scrawled on the walls around London. The first person to see the cipher is dead within hours of reading it. Sherlock plunges into a world of codes and symbols, consulting with London's best graffiti artists. He soon learns that the city is in the grip a gang of international smugglers, a secret society called the Black Lotus.</td>\\n    </tr>\\n  </tbody>\\n</table>\", \"<table border=\\\"1\\\" class=\\\"dataframe\\\">\\n  <thead>\\n    <tr style=\\\"text-align: right;\\\">\\n      <th>title</th>\\n      <th>The Great Game</th>\\n    </tr>\\n  </thead>\\n  <tbody>\\n    <tr>\\n      <th>Season</th>\\n      <td>1</td>\\n    </tr>\\n    <tr>\\n      <th>Episode</th>\\n      <td>3</td>\\n    </tr>\\n    <tr>\\n      <th>Rating</th>\\n      <td>8.92288</td>\\n    </tr>\\n    <tr>\\n      <th>Votes</th>\\n      <td>2373</td>\\n    </tr>\\n    <tr>\\n      <th>Air date</th>\\n      <td>2010-08-08 19:30:00</td>\\n    </tr>\\n    <tr>\\n      <th>Synopsis</th>\\n      <td>A strange clue in an empty room, a blood-soaked car, a priceless Old Master, a deranged bomber. With the clock ticking, the curtain rises on a battle of wits between Sherlock, John and the shadowy stranger who seems to know all the answers...</td>\\n    </tr>\\n  </tbody>\\n</table>\", \"<table border=\\\"1\\\" class=\\\"dataframe\\\">\\n  <thead>\\n    <tr style=\\\"text-align: right;\\\">\\n      <th>title</th>\\n      <th>A Scandal in Belgravia</th>\\n    </tr>\\n  </thead>\\n  <tbody>\\n    <tr>\\n      <th>Season</th>\\n      <td>2</td>\\n    </tr>\\n    <tr>\\n      <th>Episode</th>\\n      <td>1</td>\\n    </tr>\\n    <tr>\\n      <th>Rating</th>\\n      <td>9.08825</td>\\n    </tr>\\n    <tr>\\n      <th>Votes</th>\\n      <td>2629</td>\\n    </tr>\\n    <tr>\\n      <th>Air date</th>\\n      <td>2012-01-01 20:30:00</td>\\n    </tr>\\n    <tr>\\n      <th>Synopsis</th>\\n      <td>Compromising photographs and a case of blackmail threaten the very heart of the British establishment, but for Sherlock and John the game is on in more ways than one as they find themselves battling international terrorism, rogue CIA agents, and a secret conspiracy involving the British government.  This case will cast a darker shadow over their lives than they could ever imagine, as the great detective begins a long duel of wits with an antagonist as cold and ruthless and brilliant as himself: to Sherlock Holmes, Irene Adler will always be THE woman.</td>\\n    </tr>\\n  </tbody>\\n</table>\", \"<table border=\\\"1\\\" class=\\\"dataframe\\\">\\n  <thead>\\n    <tr style=\\\"text-align: right;\\\">\\n      <th>title</th>\\n      <th>The Hounds of Baskerville</th>\\n    </tr>\\n  </thead>\\n  <tbody>\\n    <tr>\\n      <th>Season</th>\\n      <td>2</td>\\n    </tr>\\n    <tr>\\n      <th>Episode</th>\\n      <td>2</td>\\n    </tr>\\n    <tr>\\n      <th>Rating</th>\\n      <td>8.44852</td>\\n    </tr>\\n    <tr>\\n      <th>Votes</th>\\n      <td>2234</td>\\n    </tr>\\n    <tr>\\n      <th>Air date</th>\\n      <td>2012-01-08 20:30:00</td>\\n    </tr>\\n    <tr>\\n      <th>Synopsis</th>\\n      <td>Something terrible has happened to Henry Knight; Sherlock and John investigate the truth about the monstrous creature which apparently killed their client's father. A hound from hell? What seems like fantasy in Baker Street is a very different prospect in the ultra-secret army base that looms over Dartmoor.</td>\\n    </tr>\\n  </tbody>\\n</table>\", \"<table border=\\\"1\\\" class=\\\"dataframe\\\">\\n  <thead>\\n    <tr style=\\\"text-align: right;\\\">\\n      <th>title</th>\\n      <th>The Reichenbach Fall</th>\\n    </tr>\\n  </thead>\\n  <tbody>\\n    <tr>\\n      <th>Season</th>\\n      <td>2</td>\\n    </tr>\\n    <tr>\\n      <th>Episode</th>\\n      <td>3</td>\\n    </tr>\\n    <tr>\\n      <th>Rating</th>\\n      <td>9.23024</td>\\n    </tr>\\n    <tr>\\n      <th>Votes</th>\\n      <td>2454</td>\\n    </tr>\\n    <tr>\\n      <th>Air date</th>\\n      <td>2012-01-15 20:30:00</td>\\n    </tr>\\n    <tr>\\n      <th>Synopsis</th>\\n      <td>James Moriarty possesses the greatest criminal mind that the world has ever seen. Sherlock and John knew he wouldn't stay hidden for long, but even they never guessed the sheer scale and audacity of the crime that would propel Moriarty back into the headlines. Sherlock must fight for his reputation, his sanity and his life. But is he all he claims to be?</td>\\n    </tr>\\n  </tbody>\\n</table>\", \"<table border=\\\"1\\\" class=\\\"dataframe\\\">\\n  <thead>\\n    <tr style=\\\"text-align: right;\\\">\\n      <th>title</th>\\n      <th>The Empty Hearse</th>\\n    </tr>\\n  </thead>\\n  <tbody>\\n    <tr>\\n      <th>Season</th>\\n      <td>3</td>\\n    </tr>\\n    <tr>\\n      <th>Episode</th>\\n      <td>1</td>\\n    </tr>\\n    <tr>\\n      <th>Rating</th>\\n      <td>8.73636</td>\\n    </tr>\\n    <tr>\\n      <th>Votes</th>\\n      <td>3573</td>\\n    </tr>\\n    <tr>\\n      <th>Air date</th>\\n      <td>2014-01-01 20:30:00</td>\\n    </tr>\\n    <tr>\\n      <th>Synopsis</th>\\n      <td>Two years after the devastating effects of Sherlock's 'Death', Dr John Watson has got on with his life. New horizons, romance and a comforting domestic future beckon. But, with London under threat of a huge terrorist attack, Sherlock Holmes is about to rise from the grave with all the theatricality that comes so naturally to him. It\\u2019s what his best friend wanted more than anything, but for John Watson it might well be a case of \\u2018be careful what you wish for\\u2019! If Sherlock thinks everything will be just as he left it though, he\\u2019s in for a very big surprise\\u2026</td>\\n    </tr>\\n  </tbody>\\n</table>\", \"<table border=\\\"1\\\" class=\\\"dataframe\\\">\\n  <thead>\\n    <tr style=\\\"text-align: right;\\\">\\n      <th>title</th>\\n      <th>The Sign of Three</th>\\n    </tr>\\n  </thead>\\n  <tbody>\\n    <tr>\\n      <th>Season</th>\\n      <td>3</td>\\n    </tr>\\n    <tr>\\n      <th>Episode</th>\\n      <td>2</td>\\n    </tr>\\n    <tr>\\n      <th>Rating</th>\\n      <td>8.64744</td>\\n    </tr>\\n    <tr>\\n      <th>Votes</th>\\n      <td>3259</td>\\n    </tr>\\n    <tr>\\n      <th>Air date</th>\\n      <td>2014-01-05 20:30:00</td>\\n    </tr>\\n    <tr>\\n      <th>Synopsis</th>\\n      <td>Sherlock faces his biggest challenge of all - delivering a Best Man's speech on John's wedding day! But all isn't quite as it seems. Mortal danger stalks the reception - and someone might not make it to the happy couple's first dance. Sherlock must thank the bridesmaids, solve the case and stop a killer!</td>\\n    </tr>\\n  </tbody>\\n</table>\", \"<table border=\\\"1\\\" class=\\\"dataframe\\\">\\n  <thead>\\n    <tr style=\\\"text-align: right;\\\">\\n      <th>title</th>\\n      <th>His Last Vow</th>\\n    </tr>\\n  </thead>\\n  <tbody>\\n    <tr>\\n      <th>Season</th>\\n      <td>3</td>\\n    </tr>\\n    <tr>\\n      <th>Episode</th>\\n      <td>3</td>\\n    </tr>\\n    <tr>\\n      <th>Rating</th>\\n      <td>8.92362</td>\\n    </tr>\\n    <tr>\\n      <th>Votes</th>\\n      <td>3260</td>\\n    </tr>\\n    <tr>\\n      <th>Air date</th>\\n      <td>2014-01-12 20:30:00</td>\\n    </tr>\\n    <tr>\\n      <th>Synopsis</th>\\n      <td>A case of stolen letters leads Sherlock Holmes into a long conflict with Charles Augustus Magnussen, the Napoleon of blackmail, and the one man he truly hates. But how do you tackle a foe who knows the personal weakness of every person of importance in the Western world?</td>\\n    </tr>\\n  </tbody>\\n</table>\"], \"type\": \"htmltooltip\", \"id\": \"el12840165286016\", \"hoffset\": 10}], \"data\": {\"data12\": [[9.0, 8.888591527794796], [9.0, 8.958648472205203]], \"data11\": [[8.0, 8.612406154093422], [8.0, 8.682473845906577]], \"data10\": [[7.0, 8.7029009591181], [7.0, 8.769819040881899]], \"data08\": [[6.0, 9.189866842456395], [6.0, 9.270613157543606]], \"data09\": [[7.0, 8.67551], [8.0, 8.769139999999998], [9.0, 8.862769999999998]], \"data06\": [[4.0, 9.04924370485114], [4.0, 9.127256295148861]], \"data07\": [[5.0, 8.406205578162592], [5.0, 8.490834421837409]], \"data04\": [[3.0, 8.881823575360071], [3.0, 8.963936424639927]], \"data05\": [[4.0, 8.85134166666667], [5.0, 8.922336666666668], [6.0, 8.993331666666666]], \"data02\": [[1.0, 8.90944237266497], [1.0, 8.982157627335031]], \"data03\": [[2.0, 8.362686153394655], [2.0, 8.443913846605344]], \"data13\": [[1.0, 8.9458], [2.0, 8.4033], [3.0, 8.92288], [4.0, 9.08825], [5.0, 8.44852], [6.0, 9.23024], [7.0, 8.73636], [8.0, 8.64744], [9.0, 8.92362]], \"data01\": [[1.0, 8.768786666666669], [2.0, 8.757326666666666], [3.0, 8.745866666666664]]}, \"id\": \"el12840162353048\"});\n",
       "   }(mpld3);\n",
       "}else if(typeof define === \"function\" && define.amd){\n",
       "   // require.js is available: use it to load d3/mpld3\n",
       "   require.config({paths: {d3: \"https://mpld3.github.io/js/d3.v3.min\"}});\n",
       "   require([\"d3\"], function(d3){\n",
       "      window.d3 = d3;\n",
       "      mpld3_load_lib(\"https://mpld3.github.io/js/mpld3.v0.2.js\", function(){\n",
       "         \n",
       "    mpld3.register_plugin(\"htmltooltip\", HtmlTooltipPlugin);\n",
       "    HtmlTooltipPlugin.prototype = Object.create(mpld3.Plugin.prototype);\n",
       "    HtmlTooltipPlugin.prototype.constructor = HtmlTooltipPlugin;\n",
       "    HtmlTooltipPlugin.prototype.requiredProps = [\"id\"];\n",
       "    HtmlTooltipPlugin.prototype.defaultProps = {labels:null, hoffset:0, voffset:10};\n",
       "    function HtmlTooltipPlugin(fig, props){\n",
       "        mpld3.Plugin.call(this, fig, props);\n",
       "    };\n",
       "\n",
       "    HtmlTooltipPlugin.prototype.draw = function(){\n",
       "       var obj = mpld3.get_element(this.props.id);\n",
       "       var labels = this.props.labels;\n",
       "       var tooltip = d3.select(\"body\").append(\"div\")\n",
       "                    .attr(\"class\", \"mpld3-tooltip\")\n",
       "                    .style(\"position\", \"absolute\")\n",
       "                    .style(\"z-index\", \"10\")\n",
       "                    .style(\"visibility\", \"hidden\");\n",
       "\n",
       "       obj.elements()\n",
       "           .on(\"mouseover\", function(d, i){\n",
       "                              tooltip.html(labels[i])\n",
       "                                     .style(\"visibility\", \"visible\");})\n",
       "           .on(\"mousemove\", function(d, i){\n",
       "                    tooltip\n",
       "                      .style(\"top\", d3.event.pageY + this.props.voffset + \"px\")\n",
       "                      .style(\"left\",d3.event.pageX + this.props.hoffset + \"px\");\n",
       "                 }.bind(this))\n",
       "           .on(\"mouseout\",  function(d, i){\n",
       "                           tooltip.style(\"visibility\", \"hidden\");});\n",
       "    };\n",
       "    \n",
       "         mpld3.draw_figure(\"fig_el128401623530482887622161\", {\"axes\": [{\"xlim\": [0.0, 10.0], \"yscale\": \"linear\", \"axesbg\": \"#FFFFFF\", \"texts\": [{\"v_baseline\": \"hanging\", \"h_anchor\": \"middle\", \"color\": \"#262626\", \"text\": \"Episode number\", \"coordinates\": \"axes\", \"zorder\": 3, \"alpha\": 1, \"fontsize\": 11.0, \"position\": [0.5, -0.062724014336917558], \"rotation\": -0.0, \"id\": \"el12840163963848\"}, {\"v_baseline\": \"auto\", \"h_anchor\": \"middle\", \"color\": \"#262626\", \"text\": \"Trakt.tv Episode Rating\", \"coordinates\": \"axes\", \"zorder\": 3, \"alpha\": 1, \"fontsize\": 11.0, \"position\": [-0.03472222222222221, 0.5], \"rotation\": -90.0, \"id\": \"el12840164024048\"}, {\"v_baseline\": \"auto\", \"h_anchor\": \"middle\", \"color\": \"#262626\", \"text\": \"Sherlock\", \"coordinates\": \"axes\", \"zorder\": 3, \"alpha\": 1, \"fontsize\": 20.0, \"position\": [0.5, 1.0149342891278375], \"rotation\": -0.0, \"id\": \"el12840164258928\"}], \"zoomable\": true, \"images\": [], \"xdomain\": [0.0, 10.0], \"ylim\": [5.0, 10.0], \"paths\": [], \"sharey\": [], \"sharex\": [], \"axesbgalpha\": null, \"axes\": [{\"scale\": \"linear\", \"tickformat\": null, \"grid\": {\"gridOn\": false}, \"fontsize\": 10.0, \"position\": \"bottom\", \"nticks\": 6, \"tickvalues\": null}, {\"scale\": \"linear\", \"tickformat\": null, \"grid\": {\"color\": \"#CCCCCC\", \"alpha\": 0.9, \"dasharray\": \"10,0\", \"gridOn\": true}, \"fontsize\": 10.0, \"position\": \"left\", \"nticks\": 6, \"tickvalues\": null}], \"lines\": [{\"color\": \"#4C72B0\", \"yindex\": 1, \"coordinates\": \"data\", \"dasharray\": \"10,0\", \"zorder\": 1, \"alpha\": 1, \"xindex\": 0, \"linewidth\": 1.75, \"data\": \"data01\", \"id\": \"el12840164692320\"}, {\"color\": \"#4C72B0\", \"yindex\": 1, \"coordinates\": \"data\", \"dasharray\": \"10,0\", \"zorder\": 1, \"alpha\": 0.4, \"xindex\": 0, \"linewidth\": 1.75, \"data\": \"data02\", \"id\": \"el12840158021000\"}, {\"color\": \"#4C72B0\", \"yindex\": 1, \"coordinates\": \"data\", \"dasharray\": \"10,0\", \"zorder\": 1, \"alpha\": 0.4, \"xindex\": 0, \"linewidth\": 1.75, \"data\": \"data03\", \"id\": \"el12840164693888\"}, {\"color\": \"#4C72B0\", \"yindex\": 1, \"coordinates\": \"data\", \"dasharray\": \"10,0\", \"zorder\": 1, \"alpha\": 0.4, \"xindex\": 0, \"linewidth\": 1.75, \"data\": \"data04\", \"id\": \"el12840164694392\"}, {\"color\": \"#55A868\", \"yindex\": 1, \"coordinates\": \"data\", \"dasharray\": \"10,0\", \"zorder\": 1, \"alpha\": 1, \"xindex\": 0, \"linewidth\": 1.75, \"data\": \"data05\", \"id\": \"el12840157904624\"}, {\"color\": \"#55A868\", \"yindex\": 1, \"coordinates\": \"data\", \"dasharray\": \"10,0\", \"zorder\": 1, \"alpha\": 0.4, \"xindex\": 0, \"linewidth\": 1.75, \"data\": \"data06\", \"id\": \"el12840164695792\"}, {\"color\": \"#55A868\", \"yindex\": 1, \"coordinates\": \"data\", \"dasharray\": \"10,0\", \"zorder\": 1, \"alpha\": 0.4, \"xindex\": 0, \"linewidth\": 1.75, \"data\": \"data07\", \"id\": \"el12840164752912\"}, {\"color\": \"#55A868\", \"yindex\": 1, \"coordinates\": \"data\", \"dasharray\": \"10,0\", \"zorder\": 1, \"alpha\": 0.4, \"xindex\": 0, \"linewidth\": 1.75, \"data\": \"data08\", \"id\": \"el12840164798536\"}, {\"color\": \"#C44E52\", \"yindex\": 1, \"coordinates\": \"data\", \"dasharray\": \"10,0\", \"zorder\": 1, \"alpha\": 1, \"xindex\": 0, \"linewidth\": 1.75, \"data\": \"data09\", \"id\": \"el12840164692432\"}, {\"color\": \"#C44E52\", \"yindex\": 1, \"coordinates\": \"data\", \"dasharray\": \"10,0\", \"zorder\": 1, \"alpha\": 0.4, \"xindex\": 0, \"linewidth\": 1.75, \"data\": \"data10\", \"id\": \"el12840164799936\"}, {\"color\": \"#C44E52\", \"yindex\": 1, \"coordinates\": \"data\", \"dasharray\": \"10,0\", \"zorder\": 1, \"alpha\": 0.4, \"xindex\": 0, \"linewidth\": 1.75, \"data\": \"data11\", \"id\": \"el12840164857056\"}, {\"color\": \"#C44E52\", \"yindex\": 1, \"coordinates\": \"data\", \"dasharray\": \"10,0\", \"zorder\": 1, \"alpha\": 0.4, \"xindex\": 0, \"linewidth\": 1.75, \"data\": \"data12\", \"id\": \"el12840164857560\"}], \"markers\": [], \"id\": \"el12840163878280\", \"ydomain\": [5.0, 10.0], \"collections\": [{\"paths\": [[[[0.0, -0.5], [0.13260155, -0.5], [0.25978993539242673, -0.44731684579412084], [0.3535533905932738, -0.3535533905932738], [0.44731684579412084, -0.25978993539242673], [0.5, -0.13260155], [0.5, 0.0], [0.5, 0.13260155], [0.44731684579412084, 0.25978993539242673], [0.3535533905932738, 0.3535533905932738], [0.25978993539242673, 0.44731684579412084], [0.13260155, 0.5], [0.0, 0.5], [-0.13260155, 0.5], [-0.25978993539242673, 0.44731684579412084], [-0.3535533905932738, 0.3535533905932738], [-0.44731684579412084, 0.25978993539242673], [-0.5, 0.13260155], [-0.5, 0.0], [-0.5, -0.13260155], [-0.44731684579412084, -0.25978993539242673], [-0.3535533905932738, -0.3535533905932738], [-0.25978993539242673, -0.44731684579412084], [-0.13260155, -0.5], [0.0, -0.5]], [\"M\", \"C\", \"C\", \"C\", \"C\", \"C\", \"C\", \"C\", \"C\", \"Z\"]]], \"edgecolors\": [\"#000000\"], \"edgewidths\": [0.3], \"offsets\": \"data13\", \"yindex\": 1, \"id\": \"el12840165286016\", \"pathtransforms\": [[4.969039949999533, 0.0, 0.0, 4.969039949999533, 0.0, 0.0]], \"pathcoordinates\": \"display\", \"offsetcoordinates\": \"data\", \"zorder\": 2, \"xindex\": 0, \"alphas\": [0.99], \"facecolors\": [\"#4C72B0\", \"#4C72B0\", \"#4C72B0\", \"#55A868\", \"#55A868\", \"#55A868\", \"#C44E52\", \"#C44E52\", \"#C44E52\"]}], \"xscale\": \"linear\", \"bbox\": [0.125, 0.125, 0.77500000000000002, 0.77500000000000002]}], \"height\": 480.0, \"width\": 960.0, \"plugins\": [{\"type\": \"reset\"}, {\"enabled\": false, \"button\": true, \"type\": \"zoom\"}, {\"enabled\": false, \"button\": true, \"type\": \"boxzoom\"}, {\"voffset\": 10, \"labels\": [\"<table border=\\\"1\\\" class=\\\"dataframe\\\">\\n  <thead>\\n    <tr style=\\\"text-align: right;\\\">\\n      <th>title</th>\\n      <th>A Study in Pink</th>\\n    </tr>\\n  </thead>\\n  <tbody>\\n    <tr>\\n      <th>Season</th>\\n      <td>1</td>\\n    </tr>\\n    <tr>\\n      <th>Episode</th>\\n      <td>1</td>\\n    </tr>\\n    <tr>\\n      <th>Rating</th>\\n      <td>8.9458</td>\\n    </tr>\\n    <tr>\\n      <th>Votes</th>\\n      <td>3026</td>\\n    </tr>\\n    <tr>\\n      <th>Air date</th>\\n      <td>2010-07-25 19:30:00</td>\\n    </tr>\\n    <tr>\\n      <th>Synopsis</th>\\n      <td>A war hero, invalided home from Afghanistan, meets a strange but charismatic genius who is looking for a flatmate; it is London, 2010, and Dr Watson and Sherlock Holmes are meeting for the first time. A string of impossible suicides has Scotland Yard baffled - and only one man can help.</td>\\n    </tr>\\n  </tbody>\\n</table>\", \"<table border=\\\"1\\\" class=\\\"dataframe\\\">\\n  <thead>\\n    <tr style=\\\"text-align: right;\\\">\\n      <th>title</th>\\n      <th>The Blind Banker</th>\\n    </tr>\\n  </thead>\\n  <tbody>\\n    <tr>\\n      <th>Season</th>\\n      <td>1</td>\\n    </tr>\\n    <tr>\\n      <th>Episode</th>\\n      <td>2</td>\\n    </tr>\\n    <tr>\\n      <th>Rating</th>\\n      <td>8.4033</td>\\n    </tr>\\n    <tr>\\n      <th>Votes</th>\\n      <td>2425</td>\\n    </tr>\\n    <tr>\\n      <th>Air date</th>\\n      <td>2010-08-01 19:30:00</td>\\n    </tr>\\n    <tr>\\n      <th>Synopsis</th>\\n      <td>A mysterious cipher is being scrawled on the walls around London. The first person to see the cipher is dead within hours of reading it. Sherlock plunges into a world of codes and symbols, consulting with London's best graffiti artists. He soon learns that the city is in the grip a gang of international smugglers, a secret society called the Black Lotus.</td>\\n    </tr>\\n  </tbody>\\n</table>\", \"<table border=\\\"1\\\" class=\\\"dataframe\\\">\\n  <thead>\\n    <tr style=\\\"text-align: right;\\\">\\n      <th>title</th>\\n      <th>The Great Game</th>\\n    </tr>\\n  </thead>\\n  <tbody>\\n    <tr>\\n      <th>Season</th>\\n      <td>1</td>\\n    </tr>\\n    <tr>\\n      <th>Episode</th>\\n      <td>3</td>\\n    </tr>\\n    <tr>\\n      <th>Rating</th>\\n      <td>8.92288</td>\\n    </tr>\\n    <tr>\\n      <th>Votes</th>\\n      <td>2373</td>\\n    </tr>\\n    <tr>\\n      <th>Air date</th>\\n      <td>2010-08-08 19:30:00</td>\\n    </tr>\\n    <tr>\\n      <th>Synopsis</th>\\n      <td>A strange clue in an empty room, a blood-soaked car, a priceless Old Master, a deranged bomber. With the clock ticking, the curtain rises on a battle of wits between Sherlock, John and the shadowy stranger who seems to know all the answers...</td>\\n    </tr>\\n  </tbody>\\n</table>\", \"<table border=\\\"1\\\" class=\\\"dataframe\\\">\\n  <thead>\\n    <tr style=\\\"text-align: right;\\\">\\n      <th>title</th>\\n      <th>A Scandal in Belgravia</th>\\n    </tr>\\n  </thead>\\n  <tbody>\\n    <tr>\\n      <th>Season</th>\\n      <td>2</td>\\n    </tr>\\n    <tr>\\n      <th>Episode</th>\\n      <td>1</td>\\n    </tr>\\n    <tr>\\n      <th>Rating</th>\\n      <td>9.08825</td>\\n    </tr>\\n    <tr>\\n      <th>Votes</th>\\n      <td>2629</td>\\n    </tr>\\n    <tr>\\n      <th>Air date</th>\\n      <td>2012-01-01 20:30:00</td>\\n    </tr>\\n    <tr>\\n      <th>Synopsis</th>\\n      <td>Compromising photographs and a case of blackmail threaten the very heart of the British establishment, but for Sherlock and John the game is on in more ways than one as they find themselves battling international terrorism, rogue CIA agents, and a secret conspiracy involving the British government.  This case will cast a darker shadow over their lives than they could ever imagine, as the great detective begins a long duel of wits with an antagonist as cold and ruthless and brilliant as himself: to Sherlock Holmes, Irene Adler will always be THE woman.</td>\\n    </tr>\\n  </tbody>\\n</table>\", \"<table border=\\\"1\\\" class=\\\"dataframe\\\">\\n  <thead>\\n    <tr style=\\\"text-align: right;\\\">\\n      <th>title</th>\\n      <th>The Hounds of Baskerville</th>\\n    </tr>\\n  </thead>\\n  <tbody>\\n    <tr>\\n      <th>Season</th>\\n      <td>2</td>\\n    </tr>\\n    <tr>\\n      <th>Episode</th>\\n      <td>2</td>\\n    </tr>\\n    <tr>\\n      <th>Rating</th>\\n      <td>8.44852</td>\\n    </tr>\\n    <tr>\\n      <th>Votes</th>\\n      <td>2234</td>\\n    </tr>\\n    <tr>\\n      <th>Air date</th>\\n      <td>2012-01-08 20:30:00</td>\\n    </tr>\\n    <tr>\\n      <th>Synopsis</th>\\n      <td>Something terrible has happened to Henry Knight; Sherlock and John investigate the truth about the monstrous creature which apparently killed their client's father. A hound from hell? What seems like fantasy in Baker Street is a very different prospect in the ultra-secret army base that looms over Dartmoor.</td>\\n    </tr>\\n  </tbody>\\n</table>\", \"<table border=\\\"1\\\" class=\\\"dataframe\\\">\\n  <thead>\\n    <tr style=\\\"text-align: right;\\\">\\n      <th>title</th>\\n      <th>The Reichenbach Fall</th>\\n    </tr>\\n  </thead>\\n  <tbody>\\n    <tr>\\n      <th>Season</th>\\n      <td>2</td>\\n    </tr>\\n    <tr>\\n      <th>Episode</th>\\n      <td>3</td>\\n    </tr>\\n    <tr>\\n      <th>Rating</th>\\n      <td>9.23024</td>\\n    </tr>\\n    <tr>\\n      <th>Votes</th>\\n      <td>2454</td>\\n    </tr>\\n    <tr>\\n      <th>Air date</th>\\n      <td>2012-01-15 20:30:00</td>\\n    </tr>\\n    <tr>\\n      <th>Synopsis</th>\\n      <td>James Moriarty possesses the greatest criminal mind that the world has ever seen. Sherlock and John knew he wouldn't stay hidden for long, but even they never guessed the sheer scale and audacity of the crime that would propel Moriarty back into the headlines. Sherlock must fight for his reputation, his sanity and his life. But is he all he claims to be?</td>\\n    </tr>\\n  </tbody>\\n</table>\", \"<table border=\\\"1\\\" class=\\\"dataframe\\\">\\n  <thead>\\n    <tr style=\\\"text-align: right;\\\">\\n      <th>title</th>\\n      <th>The Empty Hearse</th>\\n    </tr>\\n  </thead>\\n  <tbody>\\n    <tr>\\n      <th>Season</th>\\n      <td>3</td>\\n    </tr>\\n    <tr>\\n      <th>Episode</th>\\n      <td>1</td>\\n    </tr>\\n    <tr>\\n      <th>Rating</th>\\n      <td>8.73636</td>\\n    </tr>\\n    <tr>\\n      <th>Votes</th>\\n      <td>3573</td>\\n    </tr>\\n    <tr>\\n      <th>Air date</th>\\n      <td>2014-01-01 20:30:00</td>\\n    </tr>\\n    <tr>\\n      <th>Synopsis</th>\\n      <td>Two years after the devastating effects of Sherlock's 'Death', Dr John Watson has got on with his life. New horizons, romance and a comforting domestic future beckon. But, with London under threat of a huge terrorist attack, Sherlock Holmes is about to rise from the grave with all the theatricality that comes so naturally to him. It\\u2019s what his best friend wanted more than anything, but for John Watson it might well be a case of \\u2018be careful what you wish for\\u2019! If Sherlock thinks everything will be just as he left it though, he\\u2019s in for a very big surprise\\u2026</td>\\n    </tr>\\n  </tbody>\\n</table>\", \"<table border=\\\"1\\\" class=\\\"dataframe\\\">\\n  <thead>\\n    <tr style=\\\"text-align: right;\\\">\\n      <th>title</th>\\n      <th>The Sign of Three</th>\\n    </tr>\\n  </thead>\\n  <tbody>\\n    <tr>\\n      <th>Season</th>\\n      <td>3</td>\\n    </tr>\\n    <tr>\\n      <th>Episode</th>\\n      <td>2</td>\\n    </tr>\\n    <tr>\\n      <th>Rating</th>\\n      <td>8.64744</td>\\n    </tr>\\n    <tr>\\n      <th>Votes</th>\\n      <td>3259</td>\\n    </tr>\\n    <tr>\\n      <th>Air date</th>\\n      <td>2014-01-05 20:30:00</td>\\n    </tr>\\n    <tr>\\n      <th>Synopsis</th>\\n      <td>Sherlock faces his biggest challenge of all - delivering a Best Man's speech on John's wedding day! But all isn't quite as it seems. Mortal danger stalks the reception - and someone might not make it to the happy couple's first dance. Sherlock must thank the bridesmaids, solve the case and stop a killer!</td>\\n    </tr>\\n  </tbody>\\n</table>\", \"<table border=\\\"1\\\" class=\\\"dataframe\\\">\\n  <thead>\\n    <tr style=\\\"text-align: right;\\\">\\n      <th>title</th>\\n      <th>His Last Vow</th>\\n    </tr>\\n  </thead>\\n  <tbody>\\n    <tr>\\n      <th>Season</th>\\n      <td>3</td>\\n    </tr>\\n    <tr>\\n      <th>Episode</th>\\n      <td>3</td>\\n    </tr>\\n    <tr>\\n      <th>Rating</th>\\n      <td>8.92362</td>\\n    </tr>\\n    <tr>\\n      <th>Votes</th>\\n      <td>3260</td>\\n    </tr>\\n    <tr>\\n      <th>Air date</th>\\n      <td>2014-01-12 20:30:00</td>\\n    </tr>\\n    <tr>\\n      <th>Synopsis</th>\\n      <td>A case of stolen letters leads Sherlock Holmes into a long conflict with Charles Augustus Magnussen, the Napoleon of blackmail, and the one man he truly hates. But how do you tackle a foe who knows the personal weakness of every person of importance in the Western world?</td>\\n    </tr>\\n  </tbody>\\n</table>\"], \"type\": \"htmltooltip\", \"id\": \"el12840165286016\", \"hoffset\": 10}], \"data\": {\"data12\": [[9.0, 8.888591527794796], [9.0, 8.958648472205203]], \"data11\": [[8.0, 8.612406154093422], [8.0, 8.682473845906577]], \"data10\": [[7.0, 8.7029009591181], [7.0, 8.769819040881899]], \"data08\": [[6.0, 9.189866842456395], [6.0, 9.270613157543606]], \"data09\": [[7.0, 8.67551], [8.0, 8.769139999999998], [9.0, 8.862769999999998]], \"data06\": [[4.0, 9.04924370485114], [4.0, 9.127256295148861]], \"data07\": [[5.0, 8.406205578162592], [5.0, 8.490834421837409]], \"data04\": [[3.0, 8.881823575360071], [3.0, 8.963936424639927]], \"data05\": [[4.0, 8.85134166666667], [5.0, 8.922336666666668], [6.0, 8.993331666666666]], \"data02\": [[1.0, 8.90944237266497], [1.0, 8.982157627335031]], \"data03\": [[2.0, 8.362686153394655], [2.0, 8.443913846605344]], \"data13\": [[1.0, 8.9458], [2.0, 8.4033], [3.0, 8.92288], [4.0, 9.08825], [5.0, 8.44852], [6.0, 9.23024], [7.0, 8.73636], [8.0, 8.64744], [9.0, 8.92362]], \"data01\": [[1.0, 8.768786666666669], [2.0, 8.757326666666666], [3.0, 8.745866666666664]]}, \"id\": \"el12840162353048\"});\n",
       "      });\n",
       "    });\n",
       "}else{\n",
       "    // require.js not available: dynamically load d3 & mpld3\n",
       "    mpld3_load_lib(\"https://mpld3.github.io/js/d3.v3.min.js\", function(){\n",
       "         mpld3_load_lib(\"https://mpld3.github.io/js/mpld3.v0.2.js\", function(){\n",
       "                 \n",
       "    mpld3.register_plugin(\"htmltooltip\", HtmlTooltipPlugin);\n",
       "    HtmlTooltipPlugin.prototype = Object.create(mpld3.Plugin.prototype);\n",
       "    HtmlTooltipPlugin.prototype.constructor = HtmlTooltipPlugin;\n",
       "    HtmlTooltipPlugin.prototype.requiredProps = [\"id\"];\n",
       "    HtmlTooltipPlugin.prototype.defaultProps = {labels:null, hoffset:0, voffset:10};\n",
       "    function HtmlTooltipPlugin(fig, props){\n",
       "        mpld3.Plugin.call(this, fig, props);\n",
       "    };\n",
       "\n",
       "    HtmlTooltipPlugin.prototype.draw = function(){\n",
       "       var obj = mpld3.get_element(this.props.id);\n",
       "       var labels = this.props.labels;\n",
       "       var tooltip = d3.select(\"body\").append(\"div\")\n",
       "                    .attr(\"class\", \"mpld3-tooltip\")\n",
       "                    .style(\"position\", \"absolute\")\n",
       "                    .style(\"z-index\", \"10\")\n",
       "                    .style(\"visibility\", \"hidden\");\n",
       "\n",
       "       obj.elements()\n",
       "           .on(\"mouseover\", function(d, i){\n",
       "                              tooltip.html(labels[i])\n",
       "                                     .style(\"visibility\", \"visible\");})\n",
       "           .on(\"mousemove\", function(d, i){\n",
       "                    tooltip\n",
       "                      .style(\"top\", d3.event.pageY + this.props.voffset + \"px\")\n",
       "                      .style(\"left\",d3.event.pageX + this.props.hoffset + \"px\");\n",
       "                 }.bind(this))\n",
       "           .on(\"mouseout\",  function(d, i){\n",
       "                           tooltip.style(\"visibility\", \"hidden\");});\n",
       "    };\n",
       "    \n",
       "                 mpld3.draw_figure(\"fig_el128401623530482887622161\", {\"axes\": [{\"xlim\": [0.0, 10.0], \"yscale\": \"linear\", \"axesbg\": \"#FFFFFF\", \"texts\": [{\"v_baseline\": \"hanging\", \"h_anchor\": \"middle\", \"color\": \"#262626\", \"text\": \"Episode number\", \"coordinates\": \"axes\", \"zorder\": 3, \"alpha\": 1, \"fontsize\": 11.0, \"position\": [0.5, -0.062724014336917558], \"rotation\": -0.0, \"id\": \"el12840163963848\"}, {\"v_baseline\": \"auto\", \"h_anchor\": \"middle\", \"color\": \"#262626\", \"text\": \"Trakt.tv Episode Rating\", \"coordinates\": \"axes\", \"zorder\": 3, \"alpha\": 1, \"fontsize\": 11.0, \"position\": [-0.03472222222222221, 0.5], \"rotation\": -90.0, \"id\": \"el12840164024048\"}, {\"v_baseline\": \"auto\", \"h_anchor\": \"middle\", \"color\": \"#262626\", \"text\": \"Sherlock\", \"coordinates\": \"axes\", \"zorder\": 3, \"alpha\": 1, \"fontsize\": 20.0, \"position\": [0.5, 1.0149342891278375], \"rotation\": -0.0, \"id\": \"el12840164258928\"}], \"zoomable\": true, \"images\": [], \"xdomain\": [0.0, 10.0], \"ylim\": [5.0, 10.0], \"paths\": [], \"sharey\": [], \"sharex\": [], \"axesbgalpha\": null, \"axes\": [{\"scale\": \"linear\", \"tickformat\": null, \"grid\": {\"gridOn\": false}, \"fontsize\": 10.0, \"position\": \"bottom\", \"nticks\": 6, \"tickvalues\": null}, {\"scale\": \"linear\", \"tickformat\": null, \"grid\": {\"color\": \"#CCCCCC\", \"alpha\": 0.9, \"dasharray\": \"10,0\", \"gridOn\": true}, \"fontsize\": 10.0, \"position\": \"left\", \"nticks\": 6, \"tickvalues\": null}], \"lines\": [{\"color\": \"#4C72B0\", \"yindex\": 1, \"coordinates\": \"data\", \"dasharray\": \"10,0\", \"zorder\": 1, \"alpha\": 1, \"xindex\": 0, \"linewidth\": 1.75, \"data\": \"data01\", \"id\": \"el12840164692320\"}, {\"color\": \"#4C72B0\", \"yindex\": 1, \"coordinates\": \"data\", \"dasharray\": \"10,0\", \"zorder\": 1, \"alpha\": 0.4, \"xindex\": 0, \"linewidth\": 1.75, \"data\": \"data02\", \"id\": \"el12840158021000\"}, {\"color\": \"#4C72B0\", \"yindex\": 1, \"coordinates\": \"data\", \"dasharray\": \"10,0\", \"zorder\": 1, \"alpha\": 0.4, \"xindex\": 0, \"linewidth\": 1.75, \"data\": \"data03\", \"id\": \"el12840164693888\"}, {\"color\": \"#4C72B0\", \"yindex\": 1, \"coordinates\": \"data\", \"dasharray\": \"10,0\", \"zorder\": 1, \"alpha\": 0.4, \"xindex\": 0, \"linewidth\": 1.75, \"data\": \"data04\", \"id\": \"el12840164694392\"}, {\"color\": \"#55A868\", \"yindex\": 1, \"coordinates\": \"data\", \"dasharray\": \"10,0\", \"zorder\": 1, \"alpha\": 1, \"xindex\": 0, \"linewidth\": 1.75, \"data\": \"data05\", \"id\": \"el12840157904624\"}, {\"color\": \"#55A868\", \"yindex\": 1, \"coordinates\": \"data\", \"dasharray\": \"10,0\", \"zorder\": 1, \"alpha\": 0.4, \"xindex\": 0, \"linewidth\": 1.75, \"data\": \"data06\", \"id\": \"el12840164695792\"}, {\"color\": \"#55A868\", \"yindex\": 1, \"coordinates\": \"data\", \"dasharray\": \"10,0\", \"zorder\": 1, \"alpha\": 0.4, \"xindex\": 0, \"linewidth\": 1.75, \"data\": \"data07\", \"id\": \"el12840164752912\"}, {\"color\": \"#55A868\", \"yindex\": 1, \"coordinates\": \"data\", \"dasharray\": \"10,0\", \"zorder\": 1, \"alpha\": 0.4, \"xindex\": 0, \"linewidth\": 1.75, \"data\": \"data08\", \"id\": \"el12840164798536\"}, {\"color\": \"#C44E52\", \"yindex\": 1, \"coordinates\": \"data\", \"dasharray\": \"10,0\", \"zorder\": 1, \"alpha\": 1, \"xindex\": 0, \"linewidth\": 1.75, \"data\": \"data09\", \"id\": \"el12840164692432\"}, {\"color\": \"#C44E52\", \"yindex\": 1, \"coordinates\": \"data\", \"dasharray\": \"10,0\", \"zorder\": 1, \"alpha\": 0.4, \"xindex\": 0, \"linewidth\": 1.75, \"data\": \"data10\", \"id\": \"el12840164799936\"}, {\"color\": \"#C44E52\", \"yindex\": 1, \"coordinates\": \"data\", \"dasharray\": \"10,0\", \"zorder\": 1, \"alpha\": 0.4, \"xindex\": 0, \"linewidth\": 1.75, \"data\": \"data11\", \"id\": \"el12840164857056\"}, {\"color\": \"#C44E52\", \"yindex\": 1, \"coordinates\": \"data\", \"dasharray\": \"10,0\", \"zorder\": 1, \"alpha\": 0.4, \"xindex\": 0, \"linewidth\": 1.75, \"data\": \"data12\", \"id\": \"el12840164857560\"}], \"markers\": [], \"id\": \"el12840163878280\", \"ydomain\": [5.0, 10.0], \"collections\": [{\"paths\": [[[[0.0, -0.5], [0.13260155, -0.5], [0.25978993539242673, -0.44731684579412084], [0.3535533905932738, -0.3535533905932738], [0.44731684579412084, -0.25978993539242673], [0.5, -0.13260155], [0.5, 0.0], [0.5, 0.13260155], [0.44731684579412084, 0.25978993539242673], [0.3535533905932738, 0.3535533905932738], [0.25978993539242673, 0.44731684579412084], [0.13260155, 0.5], [0.0, 0.5], [-0.13260155, 0.5], [-0.25978993539242673, 0.44731684579412084], [-0.3535533905932738, 0.3535533905932738], [-0.44731684579412084, 0.25978993539242673], [-0.5, 0.13260155], [-0.5, 0.0], [-0.5, -0.13260155], [-0.44731684579412084, -0.25978993539242673], [-0.3535533905932738, -0.3535533905932738], [-0.25978993539242673, -0.44731684579412084], [-0.13260155, -0.5], [0.0, -0.5]], [\"M\", \"C\", \"C\", \"C\", \"C\", \"C\", \"C\", \"C\", \"C\", \"Z\"]]], \"edgecolors\": [\"#000000\"], \"edgewidths\": [0.3], \"offsets\": \"data13\", \"yindex\": 1, \"id\": \"el12840165286016\", \"pathtransforms\": [[4.969039949999533, 0.0, 0.0, 4.969039949999533, 0.0, 0.0]], \"pathcoordinates\": \"display\", \"offsetcoordinates\": \"data\", \"zorder\": 2, \"xindex\": 0, \"alphas\": [0.99], \"facecolors\": [\"#4C72B0\", \"#4C72B0\", \"#4C72B0\", \"#55A868\", \"#55A868\", \"#55A868\", \"#C44E52\", \"#C44E52\", \"#C44E52\"]}], \"xscale\": \"linear\", \"bbox\": [0.125, 0.125, 0.77500000000000002, 0.77500000000000002]}], \"height\": 480.0, \"width\": 960.0, \"plugins\": [{\"type\": \"reset\"}, {\"enabled\": false, \"button\": true, \"type\": \"zoom\"}, {\"enabled\": false, \"button\": true, \"type\": \"boxzoom\"}, {\"voffset\": 10, \"labels\": [\"<table border=\\\"1\\\" class=\\\"dataframe\\\">\\n  <thead>\\n    <tr style=\\\"text-align: right;\\\">\\n      <th>title</th>\\n      <th>A Study in Pink</th>\\n    </tr>\\n  </thead>\\n  <tbody>\\n    <tr>\\n      <th>Season</th>\\n      <td>1</td>\\n    </tr>\\n    <tr>\\n      <th>Episode</th>\\n      <td>1</td>\\n    </tr>\\n    <tr>\\n      <th>Rating</th>\\n      <td>8.9458</td>\\n    </tr>\\n    <tr>\\n      <th>Votes</th>\\n      <td>3026</td>\\n    </tr>\\n    <tr>\\n      <th>Air date</th>\\n      <td>2010-07-25 19:30:00</td>\\n    </tr>\\n    <tr>\\n      <th>Synopsis</th>\\n      <td>A war hero, invalided home from Afghanistan, meets a strange but charismatic genius who is looking for a flatmate; it is London, 2010, and Dr Watson and Sherlock Holmes are meeting for the first time. A string of impossible suicides has Scotland Yard baffled - and only one man can help.</td>\\n    </tr>\\n  </tbody>\\n</table>\", \"<table border=\\\"1\\\" class=\\\"dataframe\\\">\\n  <thead>\\n    <tr style=\\\"text-align: right;\\\">\\n      <th>title</th>\\n      <th>The Blind Banker</th>\\n    </tr>\\n  </thead>\\n  <tbody>\\n    <tr>\\n      <th>Season</th>\\n      <td>1</td>\\n    </tr>\\n    <tr>\\n      <th>Episode</th>\\n      <td>2</td>\\n    </tr>\\n    <tr>\\n      <th>Rating</th>\\n      <td>8.4033</td>\\n    </tr>\\n    <tr>\\n      <th>Votes</th>\\n      <td>2425</td>\\n    </tr>\\n    <tr>\\n      <th>Air date</th>\\n      <td>2010-08-01 19:30:00</td>\\n    </tr>\\n    <tr>\\n      <th>Synopsis</th>\\n      <td>A mysterious cipher is being scrawled on the walls around London. The first person to see the cipher is dead within hours of reading it. Sherlock plunges into a world of codes and symbols, consulting with London's best graffiti artists. He soon learns that the city is in the grip a gang of international smugglers, a secret society called the Black Lotus.</td>\\n    </tr>\\n  </tbody>\\n</table>\", \"<table border=\\\"1\\\" class=\\\"dataframe\\\">\\n  <thead>\\n    <tr style=\\\"text-align: right;\\\">\\n      <th>title</th>\\n      <th>The Great Game</th>\\n    </tr>\\n  </thead>\\n  <tbody>\\n    <tr>\\n      <th>Season</th>\\n      <td>1</td>\\n    </tr>\\n    <tr>\\n      <th>Episode</th>\\n      <td>3</td>\\n    </tr>\\n    <tr>\\n      <th>Rating</th>\\n      <td>8.92288</td>\\n    </tr>\\n    <tr>\\n      <th>Votes</th>\\n      <td>2373</td>\\n    </tr>\\n    <tr>\\n      <th>Air date</th>\\n      <td>2010-08-08 19:30:00</td>\\n    </tr>\\n    <tr>\\n      <th>Synopsis</th>\\n      <td>A strange clue in an empty room, a blood-soaked car, a priceless Old Master, a deranged bomber. With the clock ticking, the curtain rises on a battle of wits between Sherlock, John and the shadowy stranger who seems to know all the answers...</td>\\n    </tr>\\n  </tbody>\\n</table>\", \"<table border=\\\"1\\\" class=\\\"dataframe\\\">\\n  <thead>\\n    <tr style=\\\"text-align: right;\\\">\\n      <th>title</th>\\n      <th>A Scandal in Belgravia</th>\\n    </tr>\\n  </thead>\\n  <tbody>\\n    <tr>\\n      <th>Season</th>\\n      <td>2</td>\\n    </tr>\\n    <tr>\\n      <th>Episode</th>\\n      <td>1</td>\\n    </tr>\\n    <tr>\\n      <th>Rating</th>\\n      <td>9.08825</td>\\n    </tr>\\n    <tr>\\n      <th>Votes</th>\\n      <td>2629</td>\\n    </tr>\\n    <tr>\\n      <th>Air date</th>\\n      <td>2012-01-01 20:30:00</td>\\n    </tr>\\n    <tr>\\n      <th>Synopsis</th>\\n      <td>Compromising photographs and a case of blackmail threaten the very heart of the British establishment, but for Sherlock and John the game is on in more ways than one as they find themselves battling international terrorism, rogue CIA agents, and a secret conspiracy involving the British government.  This case will cast a darker shadow over their lives than they could ever imagine, as the great detective begins a long duel of wits with an antagonist as cold and ruthless and brilliant as himself: to Sherlock Holmes, Irene Adler will always be THE woman.</td>\\n    </tr>\\n  </tbody>\\n</table>\", \"<table border=\\\"1\\\" class=\\\"dataframe\\\">\\n  <thead>\\n    <tr style=\\\"text-align: right;\\\">\\n      <th>title</th>\\n      <th>The Hounds of Baskerville</th>\\n    </tr>\\n  </thead>\\n  <tbody>\\n    <tr>\\n      <th>Season</th>\\n      <td>2</td>\\n    </tr>\\n    <tr>\\n      <th>Episode</th>\\n      <td>2</td>\\n    </tr>\\n    <tr>\\n      <th>Rating</th>\\n      <td>8.44852</td>\\n    </tr>\\n    <tr>\\n      <th>Votes</th>\\n      <td>2234</td>\\n    </tr>\\n    <tr>\\n      <th>Air date</th>\\n      <td>2012-01-08 20:30:00</td>\\n    </tr>\\n    <tr>\\n      <th>Synopsis</th>\\n      <td>Something terrible has happened to Henry Knight; Sherlock and John investigate the truth about the monstrous creature which apparently killed their client's father. A hound from hell? What seems like fantasy in Baker Street is a very different prospect in the ultra-secret army base that looms over Dartmoor.</td>\\n    </tr>\\n  </tbody>\\n</table>\", \"<table border=\\\"1\\\" class=\\\"dataframe\\\">\\n  <thead>\\n    <tr style=\\\"text-align: right;\\\">\\n      <th>title</th>\\n      <th>The Reichenbach Fall</th>\\n    </tr>\\n  </thead>\\n  <tbody>\\n    <tr>\\n      <th>Season</th>\\n      <td>2</td>\\n    </tr>\\n    <tr>\\n      <th>Episode</th>\\n      <td>3</td>\\n    </tr>\\n    <tr>\\n      <th>Rating</th>\\n      <td>9.23024</td>\\n    </tr>\\n    <tr>\\n      <th>Votes</th>\\n      <td>2454</td>\\n    </tr>\\n    <tr>\\n      <th>Air date</th>\\n      <td>2012-01-15 20:30:00</td>\\n    </tr>\\n    <tr>\\n      <th>Synopsis</th>\\n      <td>James Moriarty possesses the greatest criminal mind that the world has ever seen. Sherlock and John knew he wouldn't stay hidden for long, but even they never guessed the sheer scale and audacity of the crime that would propel Moriarty back into the headlines. Sherlock must fight for his reputation, his sanity and his life. But is he all he claims to be?</td>\\n    </tr>\\n  </tbody>\\n</table>\", \"<table border=\\\"1\\\" class=\\\"dataframe\\\">\\n  <thead>\\n    <tr style=\\\"text-align: right;\\\">\\n      <th>title</th>\\n      <th>The Empty Hearse</th>\\n    </tr>\\n  </thead>\\n  <tbody>\\n    <tr>\\n      <th>Season</th>\\n      <td>3</td>\\n    </tr>\\n    <tr>\\n      <th>Episode</th>\\n      <td>1</td>\\n    </tr>\\n    <tr>\\n      <th>Rating</th>\\n      <td>8.73636</td>\\n    </tr>\\n    <tr>\\n      <th>Votes</th>\\n      <td>3573</td>\\n    </tr>\\n    <tr>\\n      <th>Air date</th>\\n      <td>2014-01-01 20:30:00</td>\\n    </tr>\\n    <tr>\\n      <th>Synopsis</th>\\n      <td>Two years after the devastating effects of Sherlock's 'Death', Dr John Watson has got on with his life. New horizons, romance and a comforting domestic future beckon. But, with London under threat of a huge terrorist attack, Sherlock Holmes is about to rise from the grave with all the theatricality that comes so naturally to him. It\\u2019s what his best friend wanted more than anything, but for John Watson it might well be a case of \\u2018be careful what you wish for\\u2019! If Sherlock thinks everything will be just as he left it though, he\\u2019s in for a very big surprise\\u2026</td>\\n    </tr>\\n  </tbody>\\n</table>\", \"<table border=\\\"1\\\" class=\\\"dataframe\\\">\\n  <thead>\\n    <tr style=\\\"text-align: right;\\\">\\n      <th>title</th>\\n      <th>The Sign of Three</th>\\n    </tr>\\n  </thead>\\n  <tbody>\\n    <tr>\\n      <th>Season</th>\\n      <td>3</td>\\n    </tr>\\n    <tr>\\n      <th>Episode</th>\\n      <td>2</td>\\n    </tr>\\n    <tr>\\n      <th>Rating</th>\\n      <td>8.64744</td>\\n    </tr>\\n    <tr>\\n      <th>Votes</th>\\n      <td>3259</td>\\n    </tr>\\n    <tr>\\n      <th>Air date</th>\\n      <td>2014-01-05 20:30:00</td>\\n    </tr>\\n    <tr>\\n      <th>Synopsis</th>\\n      <td>Sherlock faces his biggest challenge of all - delivering a Best Man's speech on John's wedding day! But all isn't quite as it seems. Mortal danger stalks the reception - and someone might not make it to the happy couple's first dance. Sherlock must thank the bridesmaids, solve the case and stop a killer!</td>\\n    </tr>\\n  </tbody>\\n</table>\", \"<table border=\\\"1\\\" class=\\\"dataframe\\\">\\n  <thead>\\n    <tr style=\\\"text-align: right;\\\">\\n      <th>title</th>\\n      <th>His Last Vow</th>\\n    </tr>\\n  </thead>\\n  <tbody>\\n    <tr>\\n      <th>Season</th>\\n      <td>3</td>\\n    </tr>\\n    <tr>\\n      <th>Episode</th>\\n      <td>3</td>\\n    </tr>\\n    <tr>\\n      <th>Rating</th>\\n      <td>8.92362</td>\\n    </tr>\\n    <tr>\\n      <th>Votes</th>\\n      <td>3260</td>\\n    </tr>\\n    <tr>\\n      <th>Air date</th>\\n      <td>2014-01-12 20:30:00</td>\\n    </tr>\\n    <tr>\\n      <th>Synopsis</th>\\n      <td>A case of stolen letters leads Sherlock Holmes into a long conflict with Charles Augustus Magnussen, the Napoleon of blackmail, and the one man he truly hates. But how do you tackle a foe who knows the personal weakness of every person of importance in the Western world?</td>\\n    </tr>\\n  </tbody>\\n</table>\"], \"type\": \"htmltooltip\", \"id\": \"el12840165286016\", \"hoffset\": 10}], \"data\": {\"data12\": [[9.0, 8.888591527794796], [9.0, 8.958648472205203]], \"data11\": [[8.0, 8.612406154093422], [8.0, 8.682473845906577]], \"data10\": [[7.0, 8.7029009591181], [7.0, 8.769819040881899]], \"data08\": [[6.0, 9.189866842456395], [6.0, 9.270613157543606]], \"data09\": [[7.0, 8.67551], [8.0, 8.769139999999998], [9.0, 8.862769999999998]], \"data06\": [[4.0, 9.04924370485114], [4.0, 9.127256295148861]], \"data07\": [[5.0, 8.406205578162592], [5.0, 8.490834421837409]], \"data04\": [[3.0, 8.881823575360071], [3.0, 8.963936424639927]], \"data05\": [[4.0, 8.85134166666667], [5.0, 8.922336666666668], [6.0, 8.993331666666666]], \"data02\": [[1.0, 8.90944237266497], [1.0, 8.982157627335031]], \"data03\": [[2.0, 8.362686153394655], [2.0, 8.443913846605344]], \"data13\": [[1.0, 8.9458], [2.0, 8.4033], [3.0, 8.92288], [4.0, 9.08825], [5.0, 8.44852], [6.0, 9.23024], [7.0, 8.73636], [8.0, 8.64744], [9.0, 8.92362]], \"data01\": [[1.0, 8.768786666666669], [2.0, 8.757326666666666], [3.0, 8.745866666666664]]}, \"id\": \"el12840162353048\"});\n",
       "            })\n",
       "         });\n",
       "}\n",
       "</script>"
      ],
      "text/plain": [
       "<IPython.core.display.HTML object>"
      ]
     },
     "execution_count": 17,
     "metadata": {},
     "output_type": "execute_result"
    }
   ],
   "source": [
    "# interactive mpld3 plot\n",
    "\n",
    "import matplotlib.pyplot as plt\n",
    "import numpy as np\n",
    "import pandas as pd\n",
    "import mpld3\n",
    "from mpld3 import plugins\n",
    "pd.options.display.max_colwidth = 1000\n",
    "#plt.style.use('seaborn-white')\n",
    "\n",
    "# Define some CSS to control our custom labels\n",
    "css = \"\"\"\n",
    "table\n",
    "{\n",
    "  border-collapse: collapse;\n",
    "  width: 300px;\n",
    "}\n",
    "th\n",
    "{\n",
    "  color: #ffffff;\n",
    "  background-color: #000000;\n",
    "}\n",
    "td\n",
    "{\n",
    "  background-color: #cccccc;\n",
    "}\n",
    "table, th, td\n",
    "{\n",
    "  font-family:Arial, Helvetica, sans-serif;\n",
    "  border: 1px solid black;\n",
    "  text-align: right;\n",
    "}\n",
    "\"\"\"\n",
    "\n",
    "fig, ax = plt.subplots()\n",
    "ax.grid(True, axis='y', alpha=0.9)\n",
    "\n",
    "df = main_episodes\n",
    "\n",
    "# Plot trendlines\n",
    "for name, group in groups:\n",
    "    c = np.array([pal[name-1]]*len(group))\n",
    "    polyfit_coef = np.polyfit(group.number_abs, group.rating, 1)\n",
    "    plt.plot(group.number_abs, np.poly1d(polyfit_coef)(group.number_abs), c=c[0], zorder=1)\n",
    "    \n",
    "    for name, episode in group.iterrows(): # add seasons_titles again when it works\n",
    "        rating = episode.rating\n",
    "        error = 2.0 / episode.votes ** .5\n",
    "        #plt.text(running_x + 0.04, rating - error - 0.5, title, rotation='vertical', ha='center', va='top', size='xx-small')\n",
    "        plt.plot((episode.number_abs, episode.number_abs), (rating - error, rating + error), c=c[0], alpha=0.4, zorder=1)\n",
    "\n",
    "# Generate HTML hover tooltip labels\n",
    "labels = []\n",
    "columns_for_labels = ['season', 'number', 'rating', 'votes', 'first_aired', 'overview']\n",
    "column_rename_map = {'season': 'Season',\n",
    "                     'number': 'Episode',\n",
    "                     'rating' : 'Rating',\n",
    "                     'votes' : 'Votes',\n",
    "                     'first_aired' : 'Air date', \n",
    "                     'overview' : 'Synopsis'}\n",
    "for i in range(len(df)):\n",
    "    label = df.iloc[[i]][columns_for_labels].T\n",
    "    label.columns = df.iloc[[i]].title\n",
    "    labels.append(label.rename(column_rename_map).to_html())\n",
    "\n",
    "# Plot scatter points\n",
    "c = (df.season-1).map(pd.Series(list(sns.color_palette(n_colors=len(df.season.value_counts())))))\n",
    "points = ax.scatter(df.number_abs, df.rating, alpha=.99, c=c, zorder=2)\n",
    "\n",
    "\n",
    "ax.set_ylim(5,10)\n",
    "ax.set_xlim(0,main_episodes.number_abs.max()+1)\n",
    "ax.set_ylabel('Trakt.tv Episode Rating')\n",
    "ax.set_xlabel('Episode number')\n",
    "fig.set_size_inches(12, 6)\n",
    "ax.set_title(show_summary.title[0], size=20)\n",
    "\n",
    "tooltip = plugins.PointHTMLTooltip(points, labels,\n",
    "                                   voffset=10, hoffset=10, css=css)\n",
    "plugins.connect(fig, tooltip)\n",
    "\n",
    "mpld3.save_html(fig, str(show_summary.title[0] + \".html\"))\n",
    "mpld3.display()"
   ]
  }
 ],
 "metadata": {
  "kernelspec": {
   "display_name": "Python 2",
   "language": "python",
   "name": "python2"
  },
  "language_info": {
   "codemirror_mode": {
    "name": "ipython",
    "version": 2
   },
   "file_extension": ".py",
   "mimetype": "text/x-python",
   "name": "python",
   "nbconvert_exporter": "python",
   "pygments_lexer": "ipython2",
   "version": "2.7.11"
  }
 },
 "nbformat": 4,
 "nbformat_minor": 0
}
