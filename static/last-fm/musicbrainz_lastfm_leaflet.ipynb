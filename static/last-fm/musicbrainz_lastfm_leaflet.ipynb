{
 "cells": [
  {
   "cell_type": "markdown",
   "metadata": {},
   "source": [
    "# Leaflet web map of Last.fm artists\n",
    "\n",
    "To see the final product live, check out my article [\"Analyzing Last.fm Listening History\"](http://geoffboeing.com/2016/05/analyzing-lastfm-history/)\n",
    "\n",
    "Convert the geocoded CSV file of artists produced by [musicbrainz_geocoder.ipynb](musicbrainz_geocoder.ipynb) to a GeoJSON file for Leaflet web mapping."
   ]
  },
  {
   "cell_type": "code",
   "execution_count": 1,
   "metadata": {
    "collapsed": false
   },
   "outputs": [
    {
     "name": "stderr",
     "output_type": "stream",
     "text": [
      "C:\\Users\\Danny\\Anaconda\\lib\\site-packages\\pandas\\computation\\__init__.py:19: UserWarning: The installed version of numexpr 2.4.4 is not supported in pandas and will be not be used\n",
      "\n",
      "  UserWarning)\n"
     ]
    }
   ],
   "source": [
    "import pandas as pd, json\n",
    "from IPython.display import IFrame"
   ]
  },
  {
   "cell_type": "code",
   "execution_count": 2,
   "metadata": {
    "collapsed": false
   },
   "outputs": [
    {
     "name": "stdout",
     "output_type": "stream",
     "text": [
      "428 total rows\n",
      "298 rows with lat-long\n",
      "216 unique lat-longs\n"
     ]
    }
   ],
   "source": [
    "# load the geocoded data set of artists\n",
    "df = pd.read_csv('data/mb_geocoded.csv', encoding='utf-8')\n",
    "print '{:,} total rows'.format(len(df))\n",
    "df = df[pd.notnull(df['place_latlng'])]\n",
    "print '{:,} rows with lat-long'.format(len(df))\n",
    "print '{:,} unique lat-longs'.format(len(df['place_latlng'].unique()))"
   ]
  },
  {
   "cell_type": "code",
   "execution_count": 3,
   "metadata": {
    "collapsed": false
   },
   "outputs": [
    {
     "data": {
      "text/html": [
       "<div>\n",
       "<table border=\"1\" class=\"dataframe\">\n",
       "  <thead>\n",
       "    <tr style=\"text-align: right;\">\n",
       "      <th></th>\n",
       "      <th>name</th>\n",
       "      <th>place_full</th>\n",
       "      <th>place_count</th>\n",
       "      <th>lat</th>\n",
       "      <th>lng</th>\n",
       "    </tr>\n",
       "  </thead>\n",
       "  <tbody>\n",
       "    <tr>\n",
       "      <th>0</th>\n",
       "      <td>Kaiser Chiefs</td>\n",
       "      <td>Leeds, Leeds, West Yorkshire, England, United ...</td>\n",
       "      <td>1</td>\n",
       "      <td>53.8950414</td>\n",
       "      <td>-1.6405178</td>\n",
       "    </tr>\n",
       "    <tr>\n",
       "      <th>1</th>\n",
       "      <td>Jessie J</td>\n",
       "      <td>London, England, United Kingdom</td>\n",
       "      <td>12</td>\n",
       "      <td>51.5073219</td>\n",
       "      <td>-0.1276473</td>\n",
       "    </tr>\n",
       "    <tr>\n",
       "      <th>2</th>\n",
       "      <td>Rudimental</td>\n",
       "      <td>Hackney, London, England, United Kingdom</td>\n",
       "      <td>1</td>\n",
       "      <td>51.5432402</td>\n",
       "      <td>-0.049362</td>\n",
       "    </tr>\n",
       "    <tr>\n",
       "      <th>3</th>\n",
       "      <td>Thirty Seconds to Mars</td>\n",
       "      <td>Los Angeles, Los Angeles County, California, U...</td>\n",
       "      <td>18</td>\n",
       "      <td>34.0543942</td>\n",
       "      <td>-118.2439408</td>\n",
       "    </tr>\n",
       "    <tr>\n",
       "      <th>6</th>\n",
       "      <td>Box Car Racer</td>\n",
       "      <td>San Diego, San Diego County, California, Unite...</td>\n",
       "      <td>2</td>\n",
       "      <td>32.7174209</td>\n",
       "      <td>-117.1627713</td>\n",
       "    </tr>\n",
       "  </tbody>\n",
       "</table>\n",
       "</div>"
      ],
      "text/plain": [
       "                     name                                         place_full  \\\n",
       "0           Kaiser Chiefs  Leeds, Leeds, West Yorkshire, England, United ...   \n",
       "1                Jessie J                    London, England, United Kingdom   \n",
       "2              Rudimental           Hackney, London, England, United Kingdom   \n",
       "3  Thirty Seconds to Mars  Los Angeles, Los Angeles County, California, U...   \n",
       "6           Box Car Racer  San Diego, San Diego County, California, Unite...   \n",
       "\n",
       "   place_count         lat           lng  \n",
       "0            1  53.8950414    -1.6405178  \n",
       "1           12  51.5073219    -0.1276473  \n",
       "2            1  51.5432402     -0.049362  \n",
       "3           18  34.0543942  -118.2439408  \n",
       "6            2  32.7174209  -117.1627713  "
      ]
     },
     "execution_count": 3,
     "metadata": {},
     "output_type": "execute_result"
    }
   ],
   "source": [
    "# determine how many times each place appears in dataset, and break latlng into discrete lat and long\n",
    "place_counts = df['place_full'].value_counts()\n",
    "df['place_count'] = df['place_full'].map(lambda x: place_counts[x])\n",
    "df['lat'] = df['place_latlng'].map(lambda x: x.split(',')[0])\n",
    "df['lng'] = df['place_latlng'].map(lambda x: x.split(',')[1])\n",
    "df = df[['name', 'place_full', 'place_count', 'lat', 'lng']]\n",
    "df.head()"
   ]
  },
  {
   "cell_type": "code",
   "execution_count": 4,
   "metadata": {
    "collapsed": false
   },
   "outputs": [],
   "source": [
    "# create html list of artists from each place\n",
    "features = []\n",
    "for place_full in df['place_full'].unique():\n",
    "    \n",
    "    # how many artists to show before saying \"...and n more\"\n",
    "    num_to_show = 3\n",
    "    line_break = u'<br />'\n",
    "    artists = u''\n",
    "    \n",
    "    place_count = place_counts[place_full]\n",
    "    names = df[df['place_full']==place_full]['name']\n",
    "    \n",
    "    if place_count <= num_to_show:\n",
    "        for name in names:\n",
    "            artists = u'{}{}{}'.format(artists, name, line_break)\n",
    "            \n",
    "    else:\n",
    "        for name in names[0:num_to_show]:\n",
    "            artists = u'{}{}{}'.format(artists, name, line_break)\n",
    "        artists = u'{}...and {} more'.format(artists, place_count - num_to_show)\n",
    "        \n",
    "    features.append([place_full, artists])\n",
    "\n",
    "df_leaflet = pd.DataFrame(features, columns=['place_full', 'artists'])"
   ]
  },
  {
   "cell_type": "code",
   "execution_count": 5,
   "metadata": {
    "collapsed": false
   },
   "outputs": [
    {
     "data": {
      "text/html": [
       "<div>\n",
       "<table border=\"1\" class=\"dataframe\">\n",
       "  <thead>\n",
       "    <tr style=\"text-align: right;\">\n",
       "      <th></th>\n",
       "      <th>place_full</th>\n",
       "      <th>artists</th>\n",
       "      <th>lat</th>\n",
       "      <th>lng</th>\n",
       "    </tr>\n",
       "  </thead>\n",
       "  <tbody>\n",
       "    <tr>\n",
       "      <th>0</th>\n",
       "      <td>Leeds, Leeds, West Yorkshire, England, United ...</td>\n",
       "      <td>Kaiser Chiefs&lt;br /&gt;</td>\n",
       "      <td>53.8950414</td>\n",
       "      <td>-1.6405178</td>\n",
       "    </tr>\n",
       "    <tr>\n",
       "      <th>1</th>\n",
       "      <td>London, England, United Kingdom</td>\n",
       "      <td>Jessie J&lt;br /&gt;Florence + the Machine&lt;br /&gt;Cold...</td>\n",
       "      <td>51.5073219</td>\n",
       "      <td>-0.1276473</td>\n",
       "    </tr>\n",
       "    <tr>\n",
       "      <th>2</th>\n",
       "      <td>Hackney, London, England, United Kingdom</td>\n",
       "      <td>Rudimental&lt;br /&gt;</td>\n",
       "      <td>51.5432402</td>\n",
       "      <td>-0.049362</td>\n",
       "    </tr>\n",
       "    <tr>\n",
       "      <th>3</th>\n",
       "      <td>Los Angeles, Los Angeles County, California, U...</td>\n",
       "      <td>Thirty Seconds to Mars&lt;br /&gt;Josh Groban&lt;br /&gt;R...</td>\n",
       "      <td>34.0543942</td>\n",
       "      <td>-118.2439408</td>\n",
       "    </tr>\n",
       "    <tr>\n",
       "      <th>4</th>\n",
       "      <td>San Diego, San Diego County, California, Unite...</td>\n",
       "      <td>Box Car Racer&lt;br /&gt;blink‐182&lt;br /&gt;</td>\n",
       "      <td>32.7174209</td>\n",
       "      <td>-117.1627713</td>\n",
       "    </tr>\n",
       "  </tbody>\n",
       "</table>\n",
       "</div>"
      ],
      "text/plain": [
       "                                          place_full  \\\n",
       "0  Leeds, Leeds, West Yorkshire, England, United ...   \n",
       "1                    London, England, United Kingdom   \n",
       "2           Hackney, London, England, United Kingdom   \n",
       "3  Los Angeles, Los Angeles County, California, U...   \n",
       "4  San Diego, San Diego County, California, Unite...   \n",
       "\n",
       "                                             artists         lat           lng  \n",
       "0                                Kaiser Chiefs<br />  53.8950414    -1.6405178  \n",
       "1  Jessie J<br />Florence + the Machine<br />Cold...  51.5073219    -0.1276473  \n",
       "2                                   Rudimental<br />  51.5432402     -0.049362  \n",
       "3  Thirty Seconds to Mars<br />Josh Groban<br />R...  34.0543942  -118.2439408  \n",
       "4                 Box Car Racer<br />blink‐182<br />  32.7174209  -117.1627713  "
      ]
     },
     "execution_count": 5,
     "metadata": {},
     "output_type": "execute_result"
    }
   ],
   "source": [
    "# add lat and long back to the dataframe\n",
    "place_lat_lng = {}\n",
    "df_unique = df[['place_full', 'lat', 'lng']].drop_duplicates(subset='place_full')\n",
    "for label in df_unique.index:\n",
    "    place_lat_lng[df_unique.loc[label, 'place_full']] = (df_unique.loc[label, 'lat'], df_unique.loc[label, 'lng'])\n",
    "    \n",
    "df_leaflet['lat'] = df_leaflet['place_full'].map(lambda x: place_lat_lng[x][0])\n",
    "df_leaflet['lng'] = df_leaflet['place_full'].map(lambda x: place_lat_lng[x][1])\n",
    "df_leaflet.head()"
   ]
  },
  {
   "cell_type": "markdown",
   "metadata": {},
   "source": [
    "## Write to GeoJSON for leaflet mapping"
   ]
  },
  {
   "cell_type": "code",
   "execution_count": 6,
   "metadata": {
    "collapsed": true
   },
   "outputs": [],
   "source": [
    "# function to write the dataframe out to geojson\n",
    "def df_to_geojson(df, properties, lat='latitude', lon='longitude'):\n",
    "    # create a new python dict to contain our geojson data, using geojson format\n",
    "    geojson = {'type':'FeatureCollection', 'features':[]}\n",
    "\n",
    "    # loop through each row in the dataframe and convert each row to geojson format\n",
    "    for _, row in df.iterrows():\n",
    "        # create a feature template to fill in\n",
    "        feature = {'type':'Feature',\n",
    "                   'properties':{},\n",
    "                   'geometry':{'type':'Point',\n",
    "                               'coordinates':[]}}\n",
    "\n",
    "        # fill in the coordinates\n",
    "        feature['geometry']['coordinates'] = [row[lon],row[lat]]\n",
    "\n",
    "        # for each column, get the value and add it as a new feature property\n",
    "        for prop in properties:\n",
    "            feature['properties'][prop] = row[prop]\n",
    "        \n",
    "        # add this feature (aka, converted dataframe row) to the list of features inside our dict\n",
    "        geojson['features'].append(feature)\n",
    "    \n",
    "    return geojson"
   ]
  },
  {
   "cell_type": "code",
   "execution_count": 8,
   "metadata": {
    "collapsed": false
   },
   "outputs": [
    {
     "name": "stdout",
     "output_type": "stream",
     "text": [
      "217 geotagged features saved to file\n"
     ]
    }
   ],
   "source": [
    "geojson = df_to_geojson(df_leaflet, df_leaflet.columns, lat='lat', lon='lng')\n",
    "\n",
    "# save the geojson result to a file\n",
    "output_filename = 'leaflet/lastfm-dataset.js'\n",
    "with open(output_filename, 'wb') as output_file:\n",
    "    output_file.write('var dataset = {};'.format(json.dumps(geojson)))\n",
    "    \n",
    "# how many features did we save to the geojson file?\n",
    "print '{:,} geotagged features saved to file'.format(len(geojson['features']))"
   ]
  },
  {
   "cell_type": "code",
   "execution_count": 17,
   "metadata": {
    "collapsed": false
   },
   "outputs": [
    {
     "data": {
      "text/html": [
       "\n",
       "        <iframe\n",
       "            width=\"980\"\n",
       "            height=\"600\"\n",
       "            src=\"leaflet/lastfm-artists-map.html\"\n",
       "            frameborder=\"0\"\n",
       "            allowfullscreen\n",
       "        ></iframe>\n",
       "        "
      ],
      "text/plain": [
       "<IPython.lib.display.IFrame at 0x6d68e10>"
      ]
     },
     "execution_count": 17,
     "metadata": {},
     "output_type": "execute_result"
    }
   ],
   "source": [
    "# show the iframe of the leaflet web map here\n",
    "IFrame('leaflet/lastfm-artists-map.html', width=980, height=600)"
   ]
  },
  {
   "cell_type": "markdown",
   "metadata": {},
   "source": [
    "To see the final product live, visit: http://geoffboeing.com/2016/05/analyzing-lastfm-history/"
   ]
  },
  {
   "cell_type": "code",
   "execution_count": null,
   "metadata": {
    "collapsed": true
   },
   "outputs": [],
   "source": []
  }
 ],
 "metadata": {
  "kernelspec": {
   "display_name": "Python 2",
   "language": "python",
   "name": "python2"
  },
  "language_info": {
   "codemirror_mode": {
    "name": "ipython",
    "version": 2
   },
   "file_extension": ".py",
   "mimetype": "text/x-python",
   "name": "python",
   "nbconvert_exporter": "python",
   "pygments_lexer": "ipython2",
   "version": "2.7.11"
  }
 },
 "nbformat": 4,
 "nbformat_minor": 0
}
